{
 "cells": [
  {
   "cell_type": "markdown",
   "metadata": {},
   "source": [
    "# Data Science e Machine Learning na Prática - Introdução e Aplicações na Indústria de Processos\n",
    "\n",
    "### Notebook 3 - Passo a passo de um projeto de classificação\n",
    "\n",
    "por [Afrânio](http://afrjr.weebly.com) - [afraeq@gmail.com](mailto:afraeq@gmail.com)\n",
    "\n",
    "[Escola Piloto Prof. Giulio Massarani](http://www.escolapiloto.peq.coppe.ufrj.br/) - [Programa de Engenharia Química, COPPE, UFRJ](http://portal.peq.coppe.ufrj.br/) - 2019\n",
    "\n",
    "Neste [notebook](http://jupyter.org/), o estudo mais aprofundado do problema de classificação é realizado utilizando os conjuntos de dados [MNIST](https://en.wikipedia.org/wiki/MNIST_database) e [Breast Cancer Wiscosin Diagnositcs](https://archive.ics.uci.edu/ml/datasets/Breast+Cancer+Wisconsin+(Diagnostic)). \n",
    "\n",
    "Conceitos importantes a aprender:\n",
    "\n",
    "* separação dos conjuntos de treino e teste;\n",
    "* validação cruzada;\n",
    "* métricas de desempenho;\n",
    "* matriz de confusão;\n",
    "* precisão *x* revocação;\n",
    "* acurácia simples;\n",
    "* classificação binária *x* multiclasse;\n",
    "* padronização dos dados."
   ]
  },
  {
   "cell_type": "code",
   "execution_count": 1,
   "metadata": {},
   "outputs": [],
   "source": [
    "import numpy as np\n",
    "import matplotlib\n",
    "import matplotlib.pyplot as plt\n",
    "%matplotlib inline\n",
    "\n",
    "import warnings\n",
    "warnings.filterwarnings('ignore')"
   ]
  },
  {
   "cell_type": "markdown",
   "metadata": {},
   "source": [
    "### O conjunto de dados MNIST\n",
    "\n",
    "* O conjunto de dados MNIST, um dos mais famosos da área de machine learning, é composto por 70000 imagens de dígitos de 0 a 9 desenhados por estudantes de ensino médio e funcionários do US Census Bureau. \n",
    "\n",
    "* Cada imagem vem acompanhada de seu rótulo, ou seja, o dígito que ela contém. \n",
    "\n",
    "* Nossa tarefa neste notebook será aplicar algoritmos de classificação que analisem uma imagem e predigam o algarismo correspondente."
   ]
  },
  {
   "cell_type": "markdown",
   "metadata": {},
   "source": [
    "### Importação dos dados\n",
    "\n",
    "O próprio scikit-learn dispõe de funções que permitem obter conjuntos de dados populares. A função [fetch_mldata](http://scikit-learn.org/stable/modules/generated/sklearn.datasets.fetch_mldata.html), por exemplo, possibilita o download de dados contidos no site http://mldata.org/.\n",
    "\n",
    "Abaixo, essa função é usada para baixar os dados do conjunto MNIST:"
   ]
  },
  {
   "cell_type": "code",
   "execution_count": 2,
   "metadata": {},
   "outputs": [],
   "source": [
    "from sklearn.datasets import fetch_mldata\n",
    "mnist = fetch_mldata('MNIST original')"
   ]
  },
  {
   "cell_type": "markdown",
   "metadata": {},
   "source": [
    "O objeto **mnist** é um dicionário contendo:\n",
    "\n",
    "* uma chave **DESCR** descrevendo o conjunto de dados;\n",
    "* uma chave **key** contendo uma array com uma coluna por atributo e uma linha por observação;\n",
    "* uma chave **target** contendo uma array com os rótulos de cada observação."
   ]
  },
  {
   "cell_type": "code",
   "execution_count": 3,
   "metadata": {},
   "outputs": [
    {
     "data": {
      "text/plain": [
       "'mldata.org dataset: mnist-original'"
      ]
     },
     "execution_count": 3,
     "metadata": {},
     "output_type": "execute_result"
    }
   ],
   "source": [
    "mnist['DESCR']"
   ]
  },
  {
   "cell_type": "code",
   "execution_count": 4,
   "metadata": {},
   "outputs": [
    {
     "data": {
      "text/plain": [
       "(70000, 784)"
      ]
     },
     "execution_count": 4,
     "metadata": {},
     "output_type": "execute_result"
    }
   ],
   "source": [
    "mnist['data'].shape"
   ]
  },
  {
   "cell_type": "code",
   "execution_count": 5,
   "metadata": {},
   "outputs": [
    {
     "data": {
      "text/plain": [
       "(70000,)"
      ]
     },
     "execution_count": 5,
     "metadata": {},
     "output_type": "execute_result"
    }
   ],
   "source": [
    "mnist['target'].shape"
   ]
  },
  {
   "cell_type": "markdown",
   "metadata": {},
   "source": [
    "Percebe-se que:\n",
    "\n",
    "* Há 70000 imagens e 784 atributos para cada imagem. \n",
    "* Cada imagem é composta por uma matriz de 28x28 pixels. Os 784 atributos, portanto, correspondem a cada um desses pixels."
   ]
  },
  {
   "cell_type": "markdown",
   "metadata": {},
   "source": [
    "Dando nomes mais amigáveis aos dados:"
   ]
  },
  {
   "cell_type": "code",
   "execution_count": 6,
   "metadata": {},
   "outputs": [],
   "source": [
    "X, y = mnist[\"data\"], mnist[\"target\"]"
   ]
  },
  {
   "cell_type": "markdown",
   "metadata": {},
   "source": [
    "Vamos dar uma olhada em algumas imagens usando o Matplotlib:"
   ]
  },
  {
   "cell_type": "code",
   "execution_count": 7,
   "metadata": {},
   "outputs": [
    {
     "data": {
      "image/png": "[encoded data removed]",
      "text/plain": [
       "<Figure size 1080x36 with 13 Axes>"
      ]
     },
     "metadata": {},
     "output_type": "display_data"
    }
   ],
   "source": [
    "# localização dos exemplos na matriz de dados \n",
    "loc = [0,1,11200,23000,29000,30000,32000,36000,39000,42000,50300,55000,55010]\n",
    "\n",
    "# selecionando os dígitos, já no formato de matriz\n",
    "digitos = [X[i].reshape(28,28) for i in loc]\n",
    "\n",
    "# criando figura do matplotlib\n",
    "fig, ax = plt.subplots(1,len(loc),figsize=(15,0.5))\n",
    "\n",
    "# plotando!\n",
    "[ax[i].imshow(digitos[i], cmap = matplotlib.cm.binary, interpolation=\"nearest\") for i in range(len(loc))]\n",
    "\n",
    "# desligando os eixos de todos os dígitos\n",
    "[ax[i].axis('off') for i in range(len(loc))];"
   ]
  },
  {
   "cell_type": "markdown",
   "metadata": {},
   "source": [
    "### Separação em conjunto de treino e conjunto de teste:\n",
    "\n",
    "Abaixo, geramos dois conjuntos separados, **dados_treino** e **dados_teste**, utilizando a função **train_test_split**:"
   ]
  },
  {
   "cell_type": "code",
   "execution_count": 8,
   "metadata": {},
   "outputs": [],
   "source": [
    "from sklearn.model_selection import train_test_split\n",
    "\n",
    "X_treino, X_teste, y_treino, y_teste = train_test_split(X, y, test_size=0.1, random_state=0)"
   ]
  },
  {
   "cell_type": "code",
   "execution_count": 9,
   "metadata": {},
   "outputs": [
    {
     "data": {
      "text/plain": [
       "(63000, 784)"
      ]
     },
     "execution_count": 9,
     "metadata": {},
     "output_type": "execute_result"
    }
   ],
   "source": [
    "X_treino.shape"
   ]
  },
  {
   "cell_type": "code",
   "execution_count": 10,
   "metadata": {},
   "outputs": [
    {
     "data": {
      "text/plain": [
       "(7000, 784)"
      ]
     },
     "execution_count": 10,
     "metadata": {},
     "output_type": "execute_result"
    }
   ],
   "source": [
    "X_teste.shape"
   ]
  },
  {
   "cell_type": "markdown",
   "metadata": {},
   "source": [
    "É importante ressaltar que a função **train_test_split** embaralha os dados, de modo a tirar qualquer tipo de influência do ordenamento dos dados nas etapas subsequentes."
   ]
  },
  {
   "cell_type": "markdown",
   "metadata": {},
   "source": [
    "### Construindo identificadores de cincos\n",
    "\n",
    "Vamos começar construindo classificadores binários, que identifiquem se uma imagem contém ou não o número 5. \n",
    "\n",
    "O classificador é dito binário porque ele identifica uma imagem como pertencente à uma das duas classes: a classe positiva (a imagem é um 5) ou à classe negativa (a imagem não é um 5). \n",
    "\n",
    "Para tal, precisamos criar um vetor de rótulos binário:"
   ]
  },
  {
   "cell_type": "code",
   "execution_count": 11,
   "metadata": {},
   "outputs": [],
   "source": [
    "y_treino_5 = (y_treino == 5) # True para todos os 5, false para os demais números\n",
    "y_teste_5 = (y_teste == 5)"
   ]
  },
  {
   "cell_type": "markdown",
   "metadata": {},
   "source": [
    "Criaremos três classificadores, utilizando os métodos **LinearSVC** (estudado no notebook anterior), **DecisionTreeClassifier** e o **SGDClassifier** (ainda não estudados no curso):"
   ]
  },
  {
   "cell_type": "code",
   "execution_count": 12,
   "metadata": {},
   "outputs": [],
   "source": [
    "from sklearn.svm import LinearSVC\n",
    "from sklearn.tree import DecisionTreeClassifier\n",
    "from sklearn.linear_model import SGDClassifier \n",
    "\n",
    "linear_svc = LinearSVC(random_state=0)\n",
    "tree_clf = DecisionTreeClassifier(random_state=0)\n",
    "sgd_clf = SGDClassifier(random_state=0)"
   ]
  },
  {
   "cell_type": "markdown",
   "metadata": {},
   "source": [
    "Treinando os classificadores:"
   ]
  },
  {
   "cell_type": "code",
   "execution_count": 13,
   "metadata": {},
   "outputs": [
    {
     "name": "stdout",
     "output_type": "stream",
     "text": [
      "CPU times: user 31.9 s, sys: 423 ms, total: 32.3 s\n",
      "Wall time: 32.6 s\n"
     ]
    },
    {
     "data": {
      "text/plain": [
       "LinearSVC(C=1.0, class_weight=None, dual=True, fit_intercept=True,\n",
       "     intercept_scaling=1, loss='squared_hinge', max_iter=1000,\n",
       "     multi_class='ovr', penalty='l2', random_state=0, tol=0.0001,\n",
       "     verbose=0)"
      ]
     },
     "execution_count": 13,
     "metadata": {},
     "output_type": "execute_result"
    }
   ],
   "source": [
    "%%time\n",
    "linear_svc.fit(X_treino, y_treino_5)"
   ]
  },
  {
   "cell_type": "code",
   "execution_count": 14,
   "metadata": {},
   "outputs": [
    {
     "name": "stdout",
     "output_type": "stream",
     "text": [
      "CPU times: user 34.4 s, sys: 469 ms, total: 34.9 s\n",
      "Wall time: 36.3 s\n"
     ]
    },
    {
     "data": {
      "text/plain": [
       "DecisionTreeClassifier(class_weight=None, criterion='gini', max_depth=None,\n",
       "            max_features=None, max_leaf_nodes=None,\n",
       "            min_impurity_decrease=0.0, min_impurity_split=None,\n",
       "            min_samples_leaf=1, min_samples_split=2,\n",
       "            min_weight_fraction_leaf=0.0, presort=False, random_state=0,\n",
       "            splitter='best')"
      ]
     },
     "execution_count": 14,
     "metadata": {},
     "output_type": "execute_result"
    }
   ],
   "source": [
    "%%time\n",
    "tree_clf.fit(X_treino, y_treino_5)"
   ]
  },
  {
   "cell_type": "code",
   "execution_count": 15,
   "metadata": {},
   "outputs": [
    {
     "name": "stdout",
     "output_type": "stream",
     "text": [
      "CPU times: user 570 ms, sys: 163 ms, total: 734 ms\n",
      "Wall time: 739 ms\n"
     ]
    },
    {
     "data": {
      "text/plain": [
       "SGDClassifier(alpha=0.0001, average=False, class_weight=None, epsilon=0.1,\n",
       "       eta0=0.0, fit_intercept=True, l1_ratio=0.15,\n",
       "       learning_rate='optimal', loss='hinge', max_iter=None, n_iter=None,\n",
       "       n_jobs=1, penalty='l2', power_t=0.5, random_state=0, shuffle=True,\n",
       "       tol=None, verbose=0, warm_start=False)"
      ]
     },
     "execution_count": 15,
     "metadata": {},
     "output_type": "execute_result"
    }
   ],
   "source": [
    "%%time\n",
    "sgd_clf.fit(X_treino, y_treino_5)"
   ]
  },
  {
   "cell_type": "markdown",
   "metadata": {},
   "source": [
    "Pronto! Temos três classificador treinados, guardados nos objetos **linear_svc**, **tree_clf** e **sgd_clf**. \n",
    "\n",
    "Esses classificadores podem ser então usados para predizer se uma dada imagem é ou não um número 5. Para isso, basta fornecer a imagem à função **predict** (presente nos três objetos):"
   ]
  },
  {
   "cell_type": "code",
   "execution_count": 16,
   "metadata": {},
   "outputs": [
    {
     "data": {
      "text/plain": [
       "array([ True])"
      ]
     },
     "execution_count": 16,
     "metadata": {},
     "output_type": "execute_result"
    }
   ],
   "source": [
    "sgd_clf.predict([X[36000]])"
   ]
  },
  {
   "cell_type": "code",
   "execution_count": 17,
   "metadata": {},
   "outputs": [
    {
     "data": {
      "text/plain": [
       "array([ True])"
      ]
     },
     "execution_count": 17,
     "metadata": {},
     "output_type": "execute_result"
    }
   ],
   "source": [
    "tree_clf.predict([X[36000]])"
   ]
  },
  {
   "cell_type": "code",
   "execution_count": 18,
   "metadata": {},
   "outputs": [
    {
     "data": {
      "text/plain": [
       "array([ True])"
      ]
     },
     "execution_count": 18,
     "metadata": {},
     "output_type": "execute_result"
    }
   ],
   "source": [
    "linear_svc.predict([X[36000]])"
   ]
  },
  {
   "cell_type": "markdown",
   "metadata": {},
   "source": [
    "Todos os classificadores são unânimes em afirmar que a imagem **X[36000]** representa o número 5. Checando seu rótulo para confirmar:"
   ]
  },
  {
   "cell_type": "code",
   "execution_count": 19,
   "metadata": {},
   "outputs": [
    {
     "data": {
      "text/plain": [
       "5.0"
      ]
     },
     "execution_count": 19,
     "metadata": {},
     "output_type": "execute_result"
    }
   ],
   "source": [
    "y[36000]"
   ]
  },
  {
   "cell_type": "markdown",
   "metadata": {},
   "source": [
    "Ahá! De fato! Nossos classificadores acertaram! \n",
    "\n",
    "Mas será que eles acertam também nas outras imagens? Como checar e comparar o desempenho desses classificadores de forma ampla e prática? \n",
    "\n",
    "Para isso, podemos utilizar a [estratégia de validação cruzada](https://pt.wikipedia.org/wiki/Valida%C3%A7%C3%A3o_cruzada) e métricas de avaliação, como [matriz de confusão](https://en.wikipedia.org/wiki/Confusion_matrix) ou [precisão e revocação](https://pt.wikipedia.org/wiki/Precis%C3%A3o_e_revoca%C3%A7%C3%A3o)."
   ]
  },
  {
   "cell_type": "markdown",
   "metadata": {},
   "source": [
    "### Validação cruzada e métricas de avaliação\n",
    "\n",
    "Existem diversos tipos de validação cruzada. Aqui será descrita a validação *K-fold*, que segue as etapas:\n",
    "\n",
    "* **1)** divide-se aleatoriamente o conjunto de treinamento em $K$ conjuntos mutuamente exclusivos e do mesmo tamanho;\n",
    "* **2)** realizam-se K treinamentos, selecionando-se em cada um desses treinamentos os dados de $K-1$ conjuntos. O conjunto restante serve para avaliação.\n",
    "\n",
    "Perceba que o conjunto de teste preparado no começo da aula permanece intacto (a validação cruzada é feita toda no conjunto de treinamento). É de fato uma boa prática que esse conjunto de teste só seja usado no final do desenvolvimento dos modelos, como uma espécie de \"prova final\".\n",
    "\n",
    "A função **cross_val_predict** realiza a validação cruzada *K-fold* nos nossos classificadores, com divisão do conjunto em $K=3$:"
   ]
  },
  {
   "cell_type": "code",
   "execution_count": 20,
   "metadata": {},
   "outputs": [],
   "source": [
    "from sklearn.model_selection import cross_val_predict\n",
    "\n",
    "y_treino_pred_svc = cross_val_predict(linear_svc, X_treino, y_treino_5, cv=3)\n",
    "y_treino_pred_tree = cross_val_predict(tree_clf, X_treino, y_treino_5, cv=3)\n",
    "y_treino_pred_sgd = cross_val_predict(sgd_clf, X_treino, y_treino_5, cv=3)"
   ]
  },
  {
   "cell_type": "markdown",
   "metadata": {},
   "source": [
    "Os objetos **y_treino_pred** contém as predições feitas para cada ponto do conjunto.\n",
    "\n",
    "Podemos avaliar a qualidade dessas predições usando *matrizes de confusão*:"
   ]
  },
  {
   "cell_type": "code",
   "execution_count": 21,
   "metadata": {},
   "outputs": [],
   "source": [
    "from sklearn.metrics import confusion_matrix"
   ]
  },
  {
   "cell_type": "markdown",
   "metadata": {},
   "source": [
    "Classificador SVC:"
   ]
  },
  {
   "cell_type": "code",
   "execution_count": 22,
   "metadata": {},
   "outputs": [
    {
     "data": {
      "text/plain": [
       "array([[53132,  4206],\n",
       "       [ 1323,  4339]])"
      ]
     },
     "execution_count": 22,
     "metadata": {},
     "output_type": "execute_result"
    }
   ],
   "source": [
    "confusion_matrix(y_treino_5, y_treino_pred_svc)"
   ]
  },
  {
   "cell_type": "markdown",
   "metadata": {},
   "source": [
    "Classificador Decision Tree:"
   ]
  },
  {
   "cell_type": "code",
   "execution_count": 23,
   "metadata": {},
   "outputs": [
    {
     "data": {
      "text/plain": [
       "array([[56424,   914],\n",
       "       [  829,  4833]])"
      ]
     },
     "execution_count": 23,
     "metadata": {},
     "output_type": "execute_result"
    }
   ],
   "source": [
    "confusion_matrix(y_treino_5, y_treino_pred_tree)"
   ]
  },
  {
   "cell_type": "markdown",
   "metadata": {},
   "source": [
    "Classificador SGD:"
   ]
  },
  {
   "cell_type": "code",
   "execution_count": 24,
   "metadata": {},
   "outputs": [
    {
     "data": {
      "text/plain": [
       "array([[56274,  1064],\n",
       "       [ 1233,  4429]])"
      ]
     },
     "execution_count": 24,
     "metadata": {},
     "output_type": "execute_result"
    }
   ],
   "source": [
    "confusion_matrix(y_treino_5, y_treino_pred_sgd)"
   ]
  },
  {
   "cell_type": "markdown",
   "metadata": {},
   "source": [
    "A primeira linha de cada matriz corresponde à classe negativa (não-5's) e a segunda, à classe positiva (5's). Os elementos da diagonal correspondem às previsões certas, e os demais, às previsões erradas.\n",
    "\n",
    "Note que o melhor resultado, de longe, é o da *Decision Tree*. Mas também devemos ficar atentos ao desempenho computacional: o SGD é bem mais eficaz do que os demais."
   ]
  },
  {
   "cell_type": "markdown",
   "metadata": {},
   "source": [
    "Para uma métrica mais concisa, podemos usar os conceitos de precisão $P$ e revocação $R$:\n",
    "\n",
    "$$\n",
    "P = \\frac{VP}{VP+FP}\n",
    "$$\n",
    "\n",
    "$$\n",
    "R = \\frac{VP}{VP+FN}\n",
    "$$\n",
    "\n",
    "em que $VP$ é o número de verdadeiros positivos, $FP$ é o número de falsos positivos e $FN$ é o número de falsos negativos. Em suma:\n",
    "\n",
    "* A precisão diz respeito à proporção de positivos detectados que está correta.\n",
    "* A revocação diz respeito à proporção de positivos que são corretamente detectados.\n",
    "\n",
    "Na prática:"
   ]
  },
  {
   "cell_type": "code",
   "execution_count": 25,
   "metadata": {},
   "outputs": [],
   "source": [
    "from sklearn.metrics import precision_score, recall_score"
   ]
  },
  {
   "cell_type": "markdown",
   "metadata": {},
   "source": [
    "Para a Decision Tree, que obteve melhor desempenho:"
   ]
  },
  {
   "cell_type": "code",
   "execution_count": 26,
   "metadata": {},
   "outputs": [
    {
     "data": {
      "text/plain": [
       "0.8409605011310248"
      ]
     },
     "execution_count": 26,
     "metadata": {},
     "output_type": "execute_result"
    }
   ],
   "source": [
    "precision_score(y_treino_5, y_treino_pred_tree)"
   ]
  },
  {
   "cell_type": "code",
   "execution_count": 27,
   "metadata": {},
   "outputs": [
    {
     "data": {
      "text/plain": [
       "0.8535853055457435"
      ]
     },
     "execution_count": 27,
     "metadata": {},
     "output_type": "execute_result"
    }
   ],
   "source": [
    "recall_score(y_treino_5, y_treino_pred_tree)"
   ]
  },
  {
   "cell_type": "markdown",
   "metadata": {},
   "source": [
    "Ou seja: \n",
    "\n",
    "* quando o classificador indica que a imagem é um 5, ele está correto 84% das vezes;\n",
    "* o classificador detecta 85% dos 5's.\n",
    "\n",
    "A precisão é uma medida de exatidão das detecções e tem a ver com qualidade; a revocação é uma medida de completude  das detecções e tem a ver com quantidade.\n",
    "\n",
    "Para um mesmo problema e método, quanto maior a precisão, menor a revocação, e vice-versa. Esse fenômeno é conhecido como o compromisso entre precisão/revocação (*precision/recall tradeoff*)."
   ]
  },
  {
   "cell_type": "markdown",
   "metadata": {},
   "source": [
    "### Construindo identificadores multiclasse\n",
    "\n",
    "Nosso objetivo até agora foi, dada uma imagem, identificar se ela continha ou não o dígito 5. Neste ponto, queremos identificar, dada uma imagem, qual dos dez algarismos ela contém! \n",
    "\n",
    "Para isso, fornecemos ao método **fit** o vetor **y_treino** (que contém os rótulos completos), ao invés do **y_treino_5**: "
   ]
  },
  {
   "cell_type": "code",
   "execution_count": 28,
   "metadata": {},
   "outputs": [
    {
     "name": "stdout",
     "output_type": "stream",
     "text": [
      "CPU times: user 3.75 s, sys: 171 ms, total: 3.92 s\n",
      "Wall time: 3.93 s\n"
     ]
    },
    {
     "data": {
      "text/plain": [
       "SGDClassifier(alpha=0.0001, average=False, class_weight=None, epsilon=0.1,\n",
       "       eta0=0.0, fit_intercept=True, l1_ratio=0.15,\n",
       "       learning_rate='optimal', loss='hinge', max_iter=None, n_iter=None,\n",
       "       n_jobs=1, penalty='l2', power_t=0.5, random_state=0, shuffle=True,\n",
       "       tol=None, verbose=0, warm_start=False)"
      ]
     },
     "execution_count": 28,
     "metadata": {},
     "output_type": "execute_result"
    }
   ],
   "source": [
    "%%time\n",
    "sgd_clf.fit(X_treino, y_treino)"
   ]
  },
  {
   "cell_type": "markdown",
   "metadata": {},
   "source": [
    "Usamos o classificador SGD porque ele apresentou maior eficiência computacional no problema mais simples."
   ]
  },
  {
   "cell_type": "markdown",
   "metadata": {},
   "source": [
    "Classificando uma imagem:"
   ]
  },
  {
   "cell_type": "code",
   "execution_count": 29,
   "metadata": {},
   "outputs": [
    {
     "data": {
      "text/plain": [
       "array([5.])"
      ]
     },
     "execution_count": 29,
     "metadata": {},
     "output_type": "execute_result"
    }
   ],
   "source": [
    "sgd_clf.predict([X[36000]])"
   ]
  },
  {
   "cell_type": "markdown",
   "metadata": {},
   "source": [
    "Na mosca!\n",
    "\n",
    "Avaliando o desempenho com validação cruzada:"
   ]
  },
  {
   "cell_type": "code",
   "execution_count": 30,
   "metadata": {},
   "outputs": [
    {
     "data": {
      "text/plain": [
       "array([[5997,    2,   63,   60,   14,   25,   26,    7,   42,    7],\n",
       "       [   3, 6530,   66,  211,   13,   31,   28,   16,  181,   19],\n",
       "       [  59,   47, 5471,  224,   84,   34,   55,   82,  228,   18],\n",
       "       [  24,   25,  151, 5882,   12,  106,   13,   56,   86,   53],\n",
       "       [  26,   23,   75,   49, 5761,   12,   24,   34,   53,  127],\n",
       "       [  88,   30,   84,  737,  152, 4171,  104,   23,  190,   83],\n",
       "       [  86,   35,  199,   42,   69,  101, 5540,   10,   52,    4],\n",
       "       [  33,   27,   94,  141,   91,   21,    4, 5905,   49,  204],\n",
       "       [  70,  153,  161,  671,  124,  541,   44,   55, 4227,  107],\n",
       "       [  39,   41,   35,  274,  606,  157,    0,  454,   72, 4565]])"
      ]
     },
     "execution_count": 30,
     "metadata": {},
     "output_type": "execute_result"
    }
   ],
   "source": [
    "y_treino_pred_sgd = cross_val_predict(sgd_clf, X_treino, y_treino, cv=3)\n",
    "conf_mx = confusion_matrix(y_treino, y_treino_pred_sgd)\n",
    "conf_mx"
   ]
  },
  {
   "cell_type": "markdown",
   "metadata": {},
   "source": [
    "Os maiores valores encontram-se na diagonal principal, o que é um bom sinal de desempenho!\n",
    "\n",
    "Podemos visualizar melhor essa matriz plotando-a com o auxílio da função [matshow](https://matplotlib.org/api/_as_gen/matplotlib.pyplot.matshow.html) da biblioteca Matplotlib:"
   ]
  },
  {
   "cell_type": "code",
   "execution_count": 31,
   "metadata": {},
   "outputs": [
    {
     "data": {
      "image/png": "[encoded data removed]",
      "text/plain": [
       "<Figure size 288x288 with 1 Axes>"
      ]
     },
     "metadata": {},
     "output_type": "display_data"
    }
   ],
   "source": [
    "plt.matshow(conf_mx, cmap=plt.cm.Blues)\n",
    "plt.show()"
   ]
  },
  {
   "cell_type": "markdown",
   "metadata": {},
   "source": [
    "Para analisar melhor os erros, podemos dividir cada valor na matriz pelo número total de imagens em cada classe (de modo a termos uma medida da quantidade relativa, e não absoluta, de erros):"
   ]
  },
  {
   "cell_type": "code",
   "execution_count": 32,
   "metadata": {},
   "outputs": [
    {
     "data": {
      "image/png": "[encoded data removed]",
      "text/plain": [
       "<Figure size 288x288 with 1 Axes>"
      ]
     },
     "metadata": {},
     "output_type": "display_data"
    }
   ],
   "source": [
    "row_sums = conf_mx.sum(axis=1, keepdims=True)\n",
    "norm_conf_mx = conf_mx / row_sums\n",
    "\n",
    "# sumindo com a diagonal, pra podermos analizar só os erros:\n",
    "np.fill_diagonal(norm_conf_mx, 0)\n",
    "\n",
    "plt.matshow(norm_conf_mx, cmap=plt.cm.Blues)\n",
    "plt.show()"
   ]
  },
  {
   "cell_type": "markdown",
   "metadata": {},
   "source": [
    "A matriz de confusão nessa forma é bem informativa. Por exemplo: \n",
    "\n",
    "* a coluna do número 3 tem muitos pontos escuros, o que significa que muitas imagens são classificadas equivocadamente como 3. \n",
    "\n",
    "* a linha do número 8 também tem muitos pontos escuros, o que significa que o número 8 é frequentemente confundido com outros dígitos.\n",
    "\n",
    "* o ponto mais escuro é o (5,3), o que significa que a maior fonte de erro é quando o dígito 5 é classificado como 3."
   ]
  },
  {
   "cell_type": "markdown",
   "metadata": {},
   "source": [
    "Outra maneira de avaliar o desempenho na validação cruzada é com a *acurácia simples* em cada conjunto K. Para isso, utilizamos a função **cross_val_score**:"
   ]
  },
  {
   "cell_type": "code",
   "execution_count": 33,
   "metadata": {},
   "outputs": [
    {
     "data": {
      "text/plain": [
       "array([0.86144177, 0.84914286, 0.86317745])"
      ]
     },
     "execution_count": 33,
     "metadata": {},
     "output_type": "execute_result"
    }
   ],
   "source": [
    "from sklearn.model_selection import cross_val_score\n",
    "\n",
    "cross_val_score(sgd_clf, X_treino, y_treino, cv=3, scoring=\"accuracy\")"
   ]
  },
  {
   "cell_type": "markdown",
   "metadata": {},
   "source": [
    "Por volta de 85% de acerto! Nada mal. (Obs: você consegue pensar por que a acurácia simples não é uma boa representação para o exemplo de classificação binária anterior?)\n",
    "\n",
    "Apesar disso, podemos melhorar ainda mais o desempenho do algoritmo por meio da *padronização dos dados* (subtração da média e divisão pelo desvio-padrão de cada coluna da matriz de dados). A padronização é aplicada a todo elemento $ij$ da matriz de dados usando a equação:\n",
    "\n",
    "$$\n",
    "x_{ij} = \\displaystyle\\frac{x_{ij} - \\bar{x}_j}{\\sigma_j}\n",
    "$$\n",
    "\n",
    "Após se efetuar a padronização, todas as colunas da matriz de dados passa a ter a mesma média (zero) e desvio-padrão (1). Isso faz com que efeitos de escala não interfiram no funcionamento dos algoritmos."
   ]
  },
  {
   "cell_type": "markdown",
   "metadata": {},
   "source": [
    "No scikit-learn, a padronização é realizada com a função **scale**:"
   ]
  },
  {
   "cell_type": "code",
   "execution_count": 34,
   "metadata": {},
   "outputs": [
    {
     "data": {
      "text/plain": [
       "array([0.91148462, 0.90980952, 0.91351557])"
      ]
     },
     "execution_count": 34,
     "metadata": {},
     "output_type": "execute_result"
    }
   ],
   "source": [
    "from sklearn.preprocessing import scale\n",
    "cross_val_score(sgd_clf, scale(X_treino), y_treino, cv=3, scoring=\"accuracy\")"
   ]
  },
  {
   "cell_type": "markdown",
   "metadata": {},
   "source": [
    "Uau! Ultrapassamos 90% de acurácia. Isso ilustra a importância da padronização dos dados em uma etapa de pré-tratamento, antes do fornecimento a algoritmos de *machine-learning*.\n",
    "\n",
    "É importante ressaltar que neste notebook não nos preocupamos em [escolher os melhores hiperparâmetros para cada modelo](https://scikit-learn.org/stable/modules/grid_search.html). Na prática, porém, é altamente recomendável que isso seja feito, de modo a proporcionar mais confiança de que os resultados correspondam ao melhor que cada modelo pode oferecer. "
   ]
  },
  {
   "cell_type": "markdown",
   "metadata": {},
   "source": [
    "### Treino e teste finais\n",
    "\n",
    "O desenvolvimento de um sistema de Machine Learning costuma terminar com:\n",
    "\n",
    "* um último treino, usando o melhor modelo e respectivos hiperparâmetros encontrados, e aplicado no conjunto de treino inteiro e...\n",
    "* ...um último teste, aplicado no conjunto de testes separado lá no começo e que estava intacto até agora.\n",
    "\n",
    "Um exemplo de como isso seria feito, no nosso caso:"
   ]
  },
  {
   "cell_type": "code",
   "execution_count": 35,
   "metadata": {},
   "outputs": [
    {
     "name": "stdout",
     "output_type": "stream",
     "text": [
      "Matriz de confusão:\n",
      "\n",
      "[[640   1   3   1   2   2   5   2   4   0]\n",
      " [  0 741   6   4   1   5   1   0  18   3]\n",
      " [  2   4 615  16  11   1  14   7  18   0]\n",
      " [  0   7  18 648   0  25   3   5  17  10]\n",
      " [  3   1   2   0 597   1   6   2   6  22]\n",
      " [  6   5   7  23  12 537  16   3  29  13]\n",
      " [  3   4   5   0   3   5 714   0   4   0]\n",
      " [  3   1   8   2   5   1   1 673   1  29]\n",
      " [  2  19   8  18   3  14   3   2 592  11]\n",
      " [ 11   4   2  14  25  11   0  19   3 626]]\n"
     ]
    },
    {
     "data": {
      "image/png": "[encoded data removed]",
      "text/plain": [
       "<Figure size 288x288 with 1 Axes>"
      ]
     },
     "metadata": {},
     "output_type": "display_data"
    },
    {
     "name": "stdout",
     "output_type": "stream",
     "text": [
      "Acurácia simples: 0.9118571428571428\n"
     ]
    }
   ],
   "source": [
    "# instanciando modelo final\n",
    "modelo_final = SGDClassifier(random_state=0)\n",
    "\n",
    "# treinando modelo final\n",
    "modelo_final.fit(scale(X_treino), y_treino)\n",
    "\n",
    "# testando modelo final\n",
    "y_teste_pred = modelo_final.predict(scale(X_teste))\n",
    "\n",
    "# calculando métricas\n",
    "\n",
    "# matriz de confusão\n",
    "print('Matriz de confusão:\\n')\n",
    "conf_mx_teste = confusion_matrix(y_teste, y_teste_pred)\n",
    "print(conf_mx_teste)\n",
    "row_sums = conf_mx_teste.sum(axis=1, keepdims=True)\n",
    "norm_conf_mx = conf_mx_teste / row_sums\n",
    "np.fill_diagonal(norm_conf_mx, 0)\n",
    "plt.matshow(norm_conf_mx, cmap=plt.cm.Blues)\n",
    "plt.show()\n",
    "\n",
    "# acurácia simples\n",
    "from sklearn.metrics import accuracy_score\n",
    "print('Acurácia simples:', accuracy_score(y_teste, y_teste_pred))"
   ]
  },
  {
   "cell_type": "markdown",
   "metadata": {},
   "source": [
    "#### *Mão na massa! *\n",
    "\n",
    "* Este mão na massa é quase todo por sua conta!\n",
    "    * Pesquise sobre o conjunto de dados *Breast Cancer Wiscosin Diagnositcs*. Descubra como importá-lo dos conjuntos de dados disponíveis no scikit-learn.\n",
    "    * Estude o conjunto de dados (imprima sua descrição, faça talvez alguns plots, etc). Fique à vontade para procurar exemplos na Internet (há vários) e utilizar diretamente, ou de forma adaptada, no seu código.\n",
    "    * Identifique o problema de classificação a que o conjunto de dados se destina como exemplo.\n",
    "    * Construa alguns modelos classificadores e realiza uma análise semelhante à que fizemos com o conjunto MNIST (validação cruzada, avaliação dos resultados com diferentes métricas, etc). Compare os resultados com e sem padronização dos dados."
   ]
  },
  {
   "cell_type": "code",
   "execution_count": null,
   "metadata": {},
   "outputs": [],
   "source": []
  },
  {
   "cell_type": "markdown",
   "metadata": {},
   "source": [
    "### Bibliografia\n",
    "\n",
    "* [Aurélien Géron - Hands-On Machine Learning with Scikit-Learn and TensorFlow: Concepts, Tools, and Techniques to Build Intelligent Systems - O'Reilly Media](https://www.amazon.com/Hands-Machine-Learning-Scikit-Learn-TensorFlow/dp/1491962291/ref=sr_1_1?ie=UTF8&qid=1524694308&sr=8-1&keywords=hands-on+machine+learning)"
   ]
  }
 ],
 "metadata": {
  "kernelspec": {
   "display_name": "Python 3",
   "language": "python",
   "name": "python3"
  },
  "language_info": {
   "codemirror_mode": {
    "name": "ipython",
    "version": 3
   },
   "file_extension": ".py",
   "mimetype": "text/x-python",
   "name": "python",
   "nbconvert_exporter": "python",
   "pygments_lexer": "ipython3",
   "version": "3.6.8"
  }
 },
 "nbformat": 4,
 "nbformat_minor": 2
}
