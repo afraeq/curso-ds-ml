{
 "cells": [
  {
   "cell_type": "markdown",
   "metadata": {},
   "source": [
    "## Data Science e Machine Learning na Prática - Introdução e Aplicações na Indústria de Processos\n",
    "\n",
    "### Notebook 1 - Introdução ao Python"
   ]
  },
  {
   "cell_type": "markdown",
   "metadata": {},
   "source": [
    "por [Afrânio](http://afrjr.weebly.com) - [afraeq@gmail.com](mailto:afraeq@gmail.com)\n",
    "\n",
    "[Escola Piloto Prof. Giulio Massarani](http://www.escolapiloto.peq.coppe.ufrj.br/) - [Programa de Engenharia Química, COPPE, UFRJ](http://portal.peq.coppe.ufrj.br/) - 2019\n",
    "\n",
    "Este [notebook](http://jupyter.org/) é dedicado a uma breve iniciação à programação em Python com vistas à utilização em problemas básicos de *data science* e *machine learning*. Os códigos estão escritos na linguagem [Python 3.7](https://www.python.org/) e utilizam as bibliotecas [NumPy](http://www.numpy.org/), [Matplotlib](https://matplotlib.org/) e [pandas](https://pandas.pydata.org/).\n",
    "\n",
    "<img src=\"https://www.python.org/static/img/python-logo.png\" width=\"300\" height=\"300\" />\n",
    "\n",
    "Conceitos importantes a aprender:\n",
    "\n",
    "* objetos;\n",
    "* funções;\n",
    "* módulos;\n",
    "* estruturas de dados (listas, tuplas, strings, dicionários e arrays [NumPy](http://www.numpy.org/);\n",
    "* traçado de gráficos com o [Matplotlib](https://matplotlib.org/);\n",
    "* estruturas de controle condicionais e iterativas (**if**, **while** e **for**);\n",
    "* compreensão de listas;\n",
    "* definição de funções;\n",
    "* os objetos [Series](https://pandas.pydata.org/pandas-docs/stable/reference/api/pandas.Series.html) e [DataFrame](https://pandas.pydata.org/pandas-docs/version/0.23.4/generated/pandas.DataFrame.html) do [pandas](https://pandas.pydata.org/)."
   ]
  },
  {
   "cell_type": "markdown",
   "metadata": {},
   "source": [
    "## 0. Instalando e usando o Python"
   ]
  },
  {
   "cell_type": "markdown",
   "metadata": {},
   "source": [
    "### Plataformas de computação científica\n",
    "\n",
    "Você pode obter o Python de diversas maneiras. Em computadores com sistemas Mac OS e Linux, ele já vem pré-instalado. A opção mais recomendável, no entanto, independente de seu sistema, é que você baixe uma plataforma integrada de computação científica. Nesse tipo de plataforma, todas as bibliotecas e dependências necessárias para a aplicação do Python na área científica são instaladas de forma consistente, o que é bem prático e pode te poupar de certas dores de cabeça.\n",
    "\n",
    "A plataforma utilizada no curso será a [Anaconda](https://www.continuum.io/anaconda-overview), disponibilizada gratuitamente pela [Continuum Analytics](https://www.continuum.io/). Em particular, gosto de utilizar o [Spyder](https://pythonhosted.org/spyder/index.html) para escrever e rodar meus códigos e o [Jupyter](http://jupyter.org/) para escrever notebooks como este que você está lendo. Tanto [Spyder](https://pythonhosted.org/spyder/index.html) quanto [Jupyter](http://jupyter.org/) são instalados quando se instala a [Anaconda](https://www.continuum.io/anaconda-overview).\n",
    "\n",
    "<img src=\"https://upload.wikimedia.org/wikipedia/en/c/cd/Anaconda_Logo.png\" width=\"300\" height=\"300\" />\n",
    "\n",
    "No momento do download, você deve escolher entre Python 2 e Python 3. Recomendo que escolha a versão 3, já que essa versão é cada vez mais usada e representa o futuro da linguagem. Códigos em Python 2 estão se tornando pouco a pouco mais raros. Na época da escrita deste notebook (2019), algumas bibliotecas estão disponíveis apenas para Python 2, mas elas são minoria e continuarão a diminuir com o passar do tempo (você que está lendo em 2038... isso realmente aconteceu?).\n",
    "\n",
    "Além da [Anaconda](https://www.continuum.io/anaconda-overview), outra plataforma muito usada é a [Enthought Canopy](https://www.enthought.com/products/canopy/).\n",
    "\n",
    "Se não quiser instalar nada no seu computador, você pode programar na nuvem, em serviços como [Microsoft Azure Notebooks](https://notebooks.azure.com/) ou [CoCalc](https://cocalc.com/). Programar na nuvem é bem prático e excelente para trabalhos colaborativos, mas você precisará de conexão constante à Internet (o que sabemos ser um luxo que nem todo brasileiro tem)."
   ]
  },
  {
   "cell_type": "markdown",
   "metadata": {},
   "source": [
    "## 1. Objetos"
   ]
  },
  {
   "cell_type": "markdown",
   "metadata": {},
   "source": [
    "Um *objeto* em Python é uma região da memória do computador contendo dados e informações associadas a esses dados. Tais informações são:\n",
    "\n",
    "* uma *identidade*, número pelo qual o objeto é identificado na memória;\n",
    "* um *tipo*.\n",
    "\n",
    "Não é possível modificar a identidade ou o tipo de um objeto. A depender de qual seja seu tipo, pode ou não ser possível modificar os dados que o objeto armazena.\n",
    "\n",
    "Praticamente tudo em Python pode ser encarado como um objeto! Números, funções, estruturas de dados, módulos, etc.\n",
    "\n",
    "Um objeto pode ou não ter um ou mais *nomes* (também chamados de *identificadores*) que o programador usa para identificá-lo. Por exemplo, quando digitamos o seguinte comando:"
   ]
  },
  {
   "cell_type": "code",
   "execution_count": 1,
   "metadata": {},
   "outputs": [],
   "source": [
    "obj = 2"
   ]
  },
  {
   "cell_type": "markdown",
   "metadata": {},
   "source": [
    "estamos associando o nome **obj** a um objeto que armazena o valor **2** na memória.\n",
    "\n",
    "Se digitarmos:"
   ]
  },
  {
   "cell_type": "code",
   "execution_count": 2,
   "metadata": {},
   "outputs": [],
   "source": [
    "obj = 3"
   ]
  },
  {
   "cell_type": "markdown",
   "metadata": {},
   "source": [
    "estamos reassociando o nome **obj** a um outro objeto que armazena o valor **3** na memória. O antigo objeto, que armazena o valor **2**, permanece intacto na memória, mas sem um nome para identificá-lo.\n",
    "\n",
    "Podemos acessar a identidade e o tipo de um objeto com os seguintes comandos:"
   ]
  },
  {
   "cell_type": "code",
   "execution_count": 3,
   "metadata": {},
   "outputs": [
    {
     "data": {
      "text/plain": [
       "4395648416"
      ]
     },
     "execution_count": 3,
     "metadata": {},
     "output_type": "execute_result"
    }
   ],
   "source": [
    "id(obj)"
   ]
  },
  {
   "cell_type": "code",
   "execution_count": 4,
   "metadata": {},
   "outputs": [
    {
     "data": {
      "text/plain": [
       "int"
      ]
     },
     "execution_count": 4,
     "metadata": {},
     "output_type": "execute_result"
    }
   ],
   "source": [
    "type(obj)"
   ]
  },
  {
   "cell_type": "markdown",
   "metadata": {},
   "source": [
    "No caso, nosso objeto **obj** tem a identidade **4309338176** e é do tipo **int** (número inteiro).\n",
    "\n",
    "Um objeto pode ter vários nomes. Por exemplo, já associamos anteriormente o nome **obj** ao objeto **3**. Podemos agora associar um novo nome a esse objeto: "
   ]
  },
  {
   "cell_type": "code",
   "execution_count": 5,
   "metadata": {},
   "outputs": [],
   "source": [
    "novo_nome = 3"
   ]
  },
  {
   "cell_type": "markdown",
   "metadata": {},
   "source": [
    "Vamos confirmar que **obj** e **novo_nome** referem-se ao mesmo objeto:"
   ]
  },
  {
   "cell_type": "code",
   "execution_count": 6,
   "metadata": {},
   "outputs": [
    {
     "data": {
      "text/plain": [
       "4395648416"
      ]
     },
     "execution_count": 6,
     "metadata": {},
     "output_type": "execute_result"
    }
   ],
   "source": [
    "id(obj)"
   ]
  },
  {
   "cell_type": "code",
   "execution_count": 7,
   "metadata": {},
   "outputs": [
    {
     "data": {
      "text/plain": [
       "4395648416"
      ]
     },
     "execution_count": 7,
     "metadata": {},
     "output_type": "execute_result"
    }
   ],
   "source": [
    "id(novo_nome)"
   ]
  },
  {
   "cell_type": "markdown",
   "metadata": {},
   "source": [
    "A identidade é a mesma, portanto, os dois nomes referem-se ao mesmo objeto.\n",
    "\n",
    "A lista completa de nomes associados aos objetos na memória é chamada de *espaço de nomes* (*namespace*). Podemos visualizar o espaço de nomes com o comando **dir()**:"
   ]
  },
  {
   "cell_type": "code",
   "execution_count": 8,
   "metadata": {},
   "outputs": [
    {
     "data": {
      "text/plain": [
       "['In',\n",
       " 'Out',\n",
       " '_',\n",
       " '_3',\n",
       " '_4',\n",
       " '_6',\n",
       " '_7',\n",
       " '__',\n",
       " '___',\n",
       " '__builtin__',\n",
       " '__builtins__',\n",
       " '__doc__',\n",
       " '__loader__',\n",
       " '__name__',\n",
       " '__package__',\n",
       " '__spec__',\n",
       " '_dh',\n",
       " '_i',\n",
       " '_i1',\n",
       " '_i2',\n",
       " '_i3',\n",
       " '_i4',\n",
       " '_i5',\n",
       " '_i6',\n",
       " '_i7',\n",
       " '_i8',\n",
       " '_ih',\n",
       " '_ii',\n",
       " '_iii',\n",
       " '_oh',\n",
       " 'exit',\n",
       " 'get_ipython',\n",
       " 'novo_nome',\n",
       " 'obj',\n",
       " 'quit']"
      ]
     },
     "execution_count": 8,
     "metadata": {},
     "output_type": "execute_result"
    }
   ],
   "source": [
    "dir()"
   ]
  },
  {
   "cell_type": "markdown",
   "metadata": {},
   "source": [
    "Todos esses nomes (em sua maioria definidos por trás dos panos pelo Python) estão sendo usados para se referir a objetos. Perceba a presença de **obj** e **novo_nome**, definidos nos exemplos acima."
   ]
  },
  {
   "cell_type": "markdown",
   "metadata": {},
   "source": [
    "#### *Mão na massa! *\n",
    "\n",
    "* Na célula abaixo, crie um objeto numérico que você imagine não ser do tipo **int** e imprima na tela seu **id** e seu **tipo**."
   ]
  },
  {
   "cell_type": "code",
   "execution_count": null,
   "metadata": {},
   "outputs": [],
   "source": []
  },
  {
   "cell_type": "markdown",
   "metadata": {},
   "source": [
    "## 2. Funções"
   ]
  },
  {
   "cell_type": "markdown",
   "metadata": {},
   "source": [
    "*Funções* são objetos que aceitam argumentos (entrada da função), processam esses argumentos e retornam valores (saída da função).\n",
    "\n",
    "<img src=\"https://upload.wikimedia.org/wikipedia/commons/3/3b/Function_machine2.svg\" width=\"200\" height=\"200\" align=\"center\"/>\n",
    "\n",
    "Os últimos comandos que digitamos na Seção anterior ilustram o uso de funções (no caso, as funções **id** e **type**). \n",
    "\n",
    "A função **id** aceita como entrada um objeto e retorna como saída a identidade desse objeto. No nosso caso específico, a função **id** aceitou o objeto **obj** e retornou **4309338176**, a identidade de **obj**.\n",
    "\n",
    "A função **type** aceita como entrada um objeto e retorna como saída o tipo desse objeto. No nosso caso específico, a função **type** aceitou o objeto **obj** e retornou **int**, o tipo de **obj**.\n",
    "\n",
    "**id** e **type** são exemplos de funções definidas na própria linguagem Python. Mais adiante,  aprenderemos a utilizar funções programadas por terceiros e também a programar nossas próprias funções."
   ]
  },
  {
   "cell_type": "markdown",
   "metadata": {},
   "source": [
    "## 3. Usando o Python como calculadora"
   ]
  },
  {
   "cell_type": "markdown",
   "metadata": {},
   "source": [
    "### Comandos básicos"
   ]
  },
  {
   "cell_type": "markdown",
   "metadata": {},
   "source": [
    "Os comandos para realizar operações aritméticas são intuitivos:"
   ]
  },
  {
   "cell_type": "code",
   "execution_count": 9,
   "metadata": {},
   "outputs": [],
   "source": [
    "# Este é um comentário. Comentários são linhas que começam com hashtag (#)\n",
    "# Comentários são ignorados pelo interpretador do Python.\n",
    "# Eles só servem para o programador se comunicar com eventuais \n",
    "# leitores do código, como vc, caro amigo.\n",
    "\n",
    "# abaixo temos comandos para realizar as operações aritméticas\n",
    "\n",
    "a = 3\n",
    "b = 4\n",
    "c = a + b\n",
    "d = a*b\n",
    "e = c/d\n",
    "f = b**a"
   ]
  },
  {
   "cell_type": "markdown",
   "metadata": {},
   "source": [
    "O único sinal que pode causar um pouco de estranheza é o **\\*\\***, que denota exponenciação.\n",
    "\n",
    "Ao definir objetos e realizar operações, o *prompt* não fornece nenhum retorno. Para visualizar os resultados, devemos usar a função **print**:"
   ]
  },
  {
   "cell_type": "code",
   "execution_count": 10,
   "metadata": {},
   "outputs": [
    {
     "name": "stdout",
     "output_type": "stream",
     "text": [
      "7\n",
      "12\n",
      "0.5833333333333334\n",
      "64\n",
      "19\n"
     ]
    }
   ],
   "source": [
    "print(c)\n",
    "print(d)\n",
    "print(e)\n",
    "print(f)\n",
    "print(c+d)"
   ]
  },
  {
   "cell_type": "markdown",
   "metadata": {},
   "source": [
    "### Objetos numéricos"
   ]
  },
  {
   "cell_type": "markdown",
   "metadata": {},
   "source": [
    "Em Python, temos três tipos de objetos numéricos: **int**, **float** e **complex**:\n",
    "\n",
    "* **int**: corresponde ao conjunto dos números inteiros; \n",
    "\n",
    "* **float**: corresponde ao conjunto dos números racionais (conhecidos na área da computação como números de ponto flutuante);\n",
    "\n",
    "* **complex**: corresponde ao conjunto dos números complexos.\n",
    "\n",
    "Vamos checar os tipos dos objetos **c**, **d** e **e** calculados no item anterior."
   ]
  },
  {
   "cell_type": "code",
   "execution_count": 11,
   "metadata": {},
   "outputs": [
    {
     "data": {
      "text/plain": [
       "int"
      ]
     },
     "execution_count": 11,
     "metadata": {},
     "output_type": "execute_result"
    }
   ],
   "source": [
    "type(c)"
   ]
  },
  {
   "cell_type": "code",
   "execution_count": 12,
   "metadata": {
    "scrolled": true
   },
   "outputs": [
    {
     "data": {
      "text/plain": [
       "int"
      ]
     },
     "execution_count": 12,
     "metadata": {},
     "output_type": "execute_result"
    }
   ],
   "source": [
    "type(d)"
   ]
  },
  {
   "cell_type": "code",
   "execution_count": 13,
   "metadata": {
    "scrolled": true
   },
   "outputs": [
    {
     "data": {
      "text/plain": [
       "float"
      ]
     },
     "execution_count": 13,
     "metadata": {},
     "output_type": "execute_result"
    }
   ],
   "source": [
    "type(e)"
   ]
  },
  {
   "cell_type": "markdown",
   "metadata": {},
   "source": [
    "Para definir objetos **float**, usamos o ponto decimal:"
   ]
  },
  {
   "cell_type": "code",
   "execution_count": 14,
   "metadata": {},
   "outputs": [
    {
     "data": {
      "text/plain": [
       "float"
      ]
     },
     "execution_count": 14,
     "metadata": {},
     "output_type": "execute_result"
    }
   ],
   "source": [
    "oi = 2.5\n",
    "type(oi)"
   ]
  },
  {
   "cell_type": "markdown",
   "metadata": {},
   "source": [
    "Podemos definir objetos complexos de duas maneiras:"
   ]
  },
  {
   "cell_type": "code",
   "execution_count": 15,
   "metadata": {},
   "outputs": [
    {
     "data": {
      "text/plain": [
       "complex"
      ]
     },
     "execution_count": 15,
     "metadata": {},
     "output_type": "execute_result"
    }
   ],
   "source": [
    "ai = 1.0 - 2.0j\n",
    "type(ai)"
   ]
  },
  {
   "cell_type": "code",
   "execution_count": 16,
   "metadata": {},
   "outputs": [
    {
     "data": {
      "text/plain": [
       "complex"
      ]
     },
     "execution_count": 16,
     "metadata": {},
     "output_type": "execute_result"
    }
   ],
   "source": [
    "ei = complex(2.0,3.0)\n",
    "type(ei)"
   ]
  },
  {
   "cell_type": "code",
   "execution_count": 17,
   "metadata": {},
   "outputs": [
    {
     "name": "stdout",
     "output_type": "stream",
     "text": [
      "(3+1j)\n"
     ]
    }
   ],
   "source": [
    "print(ai+ei)"
   ]
  },
  {
   "cell_type": "markdown",
   "metadata": {},
   "source": [
    "Repare que a unidade imaginária $\\sqrt{-1}$ é denotada pela letra **j**."
   ]
  },
  {
   "cell_type": "markdown",
   "metadata": {},
   "source": [
    "### Importando módulos"
   ]
  },
  {
   "cell_type": "markdown",
   "metadata": {},
   "source": [
    "Funções matemáticas como seno, cosseno ou exponencial não estão disponíveis diretamente na linguagem. Para utilizá-las, é preciso importar um *módulo* que as contenha. \n",
    "\n",
    "*Módulos* são códigos contendo objetos previamente programados que você pode incorporar aos seus próprios códigos.\n",
    "\n",
    "Para utilizar um módulo, é necessário importá-lo com o comando **import**. Abaixo, importaremos o módulo [NumPy](http://www.numpy.org/), que contém uma biblioteca de funções dedicadas a cálculos numéricos:"
   ]
  },
  {
   "cell_type": "code",
   "execution_count": 18,
   "metadata": {},
   "outputs": [],
   "source": [
    "import numpy as np"
   ]
  },
  {
   "cell_type": "markdown",
   "metadata": {},
   "source": [
    "No comando acima, importamos o módulo [NumPy](http://www.numpy.org/) utilizando o identificador **np**. Isso significa que qualquer objeto do [NumPy](http://www.numpy.org/) em nosso código deve ser precedido pelo prefixo **np.**, como ilustrado abaixo:"
   ]
  },
  {
   "cell_type": "code",
   "execution_count": 19,
   "metadata": {},
   "outputs": [
    {
     "name": "stdout",
     "output_type": "stream",
     "text": [
      "1.0\n",
      "1.2246467991473532e-16\n"
     ]
    }
   ],
   "source": [
    "valor1 = np.cos(0)\n",
    "valor2 = np.sin(np.pi)\n",
    "\n",
    "print(valor1)\n",
    "print(valor2)"
   ]
  },
  {
   "cell_type": "markdown",
   "metadata": {},
   "source": [
    "Perceba que o resultado de $sen(\\pi)$ não deu exatamente zero, como esperaríamos, mas sim um número extremamente pequeno. Esse ínfimo valor residual é resultado do inevitável erro inerente a qualquer cálculo numérico. Neste caso, o erro é tão pequeno (1,22 x 10$^{-16}$) que consideramos o valor como sendo zero, para todos os efeitos."
   ]
  },
  {
   "cell_type": "markdown",
   "metadata": {},
   "source": [
    "#### *Mão na massa! *\n",
    "\n",
    "* Calcule o valor da expressão: $ [\\sin(\\pi^2)-\\cos(2\\pi-i)] ^3 $:"
   ]
  },
  {
   "cell_type": "code",
   "execution_count": null,
   "metadata": {},
   "outputs": [],
   "source": []
  },
  {
   "cell_type": "markdown",
   "metadata": {},
   "source": [
    "## 4. Estruturas de dados"
   ]
  },
  {
   "cell_type": "markdown",
   "metadata": {},
   "source": [
    "Estruturas de dados são objetos que contém outros objetos. Estudaremos as seguintes estruturas: \n",
    "\n",
    "* listas;\n",
    "* tuplas;\n",
    "* strings;\n",
    "* dicionários;\n",
    "* arrays definidas na biblioteca [NumPy](http://www.numpy.org/).\n",
    "\n",
    "### 4.1 Listas\n",
    "\n",
    "*Listas* são estruturas contendo objetos ordenados que podem ser modificados.\n",
    "\n",
    "Definimos listas usando colchetes:"
   ]
  },
  {
   "cell_type": "code",
   "execution_count": 20,
   "metadata": {},
   "outputs": [],
   "source": [
    "lista_bolada = [1,2,3]"
   ]
  },
  {
   "cell_type": "markdown",
   "metadata": {},
   "source": [
    "A lista acima armazena os valores 1, 2 e 3.\n",
    "\n",
    "Acessamos os valores escrevendo o nome da lista seguido de um colchete contendo a posição do elemento desejado:"
   ]
  },
  {
   "cell_type": "code",
   "execution_count": 21,
   "metadata": {},
   "outputs": [],
   "source": [
    "elemento1 = lista_bolada[0]\n",
    "elemento2 = lista_bolada[1]\n",
    "elemento3 = lista_bolada[2]"
   ]
  },
  {
   "cell_type": "code",
   "execution_count": 22,
   "metadata": {},
   "outputs": [
    {
     "name": "stdout",
     "output_type": "stream",
     "text": [
      "1\n",
      "2\n",
      "3\n"
     ]
    }
   ],
   "source": [
    "print(elemento1)\n",
    "print(elemento2)\n",
    "print(elemento3)"
   ]
  },
  {
   "cell_type": "markdown",
   "metadata": {},
   "source": [
    "À posição do elemento na lista damos o nome de *índice*. A primeira posição nas estruturas em Python é identificada com o índice 0, a segunda posição é identificada com o índice 1, e assim por diante. No início, isso pode causar certa confusão, mas logo você se acostuma (ou não).\n",
    "\n",
    "A última posição na lista pode ser acessada com o índice -1, a penúltima posição com o índice -2, e assim por diante:"
   ]
  },
  {
   "cell_type": "code",
   "execution_count": 23,
   "metadata": {},
   "outputs": [
    {
     "name": "stdout",
     "output_type": "stream",
     "text": [
      "3\n",
      "2\n",
      "1\n"
     ]
    }
   ],
   "source": [
    "ult = lista_bolada[-1]\n",
    "penult = lista_bolada[-2]\n",
    "antepenult = lista_bolada[-3]\n",
    "\n",
    "print(ult)\n",
    "print(penult)\n",
    "print(antepenult)"
   ]
  },
  {
   "cell_type": "markdown",
   "metadata": {},
   "source": [
    "Acessamos uma faixa de valores da lista usando um comando conhecido como *slice*, escrito na forma **nome_da_lista [ start: end : intervalo ]**. Exemplo:"
   ]
  },
  {
   "cell_type": "code",
   "execution_count": 24,
   "metadata": {},
   "outputs": [
    {
     "name": "stdout",
     "output_type": "stream",
     "text": [
      "[20, 40, 60, 80]\n"
     ]
    }
   ],
   "source": [
    "A = [10, 20, 30, 40, 50, 60, 70, 80, 90, 100]\n",
    "\n",
    "B = A[1:8:2]\n",
    "\n",
    "print(B)"
   ]
  },
  {
   "cell_type": "markdown",
   "metadata": {},
   "source": [
    "Na segunda linha da célula acima, acessamos os elementos de índice 1 até 8 (sem incluir o 8!) da lista **A**, indo de 2 em 2. É importante destacar que o elemento entre os sinais de 'dois pontos', denotado por **end** (no caso acima, o de índice 8) *não é incluído*."
   ]
  },
  {
   "cell_type": "markdown",
   "metadata": {},
   "source": [
    "Se quisermos acessar o último elemento da lista, basta usar a forma  **nome_da_lista [ start :  : intervalo ]** (sem  um número que represente o **end** entre os dois sinais de 'dois pontos'):"
   ]
  },
  {
   "cell_type": "code",
   "execution_count": 25,
   "metadata": {},
   "outputs": [
    {
     "name": "stdout",
     "output_type": "stream",
     "text": [
      "[20, 40, 60, 80, 100]\n"
     ]
    }
   ],
   "source": [
    "print(A[1: :2])"
   ]
  },
  {
   "cell_type": "markdown",
   "metadata": {},
   "source": [
    "Se não especificarmos o **intervalo**, ou seja, se usarmos a forma **nome_da_lista [ start : end ]**, acessaremos uma faixa da lista indo de 1 em 1:"
   ]
  },
  {
   "cell_type": "code",
   "execution_count": 26,
   "metadata": {},
   "outputs": [
    {
     "name": "stdout",
     "output_type": "stream",
     "text": [
      "[10, 20, 30, 40]\n"
     ]
    }
   ],
   "source": [
    "print(A[0:4])"
   ]
  },
  {
   "cell_type": "markdown",
   "metadata": {},
   "source": [
    "Se quisermos modificar uma faixa de elementos de uma lista existente sem criar uma nova lista, basta escrever **nome_da_lista [ start: end : intervalo ]** do lado *esquerdo* da equação:"
   ]
  },
  {
   "cell_type": "code",
   "execution_count": 27,
   "metadata": {},
   "outputs": [
    {
     "name": "stdout",
     "output_type": "stream",
     "text": [
      "[10, 20, 30, 40, 50, 60, 70, 80, 90, 100]\n"
     ]
    }
   ],
   "source": [
    "print(A)"
   ]
  },
  {
   "cell_type": "code",
   "execution_count": 28,
   "metadata": {},
   "outputs": [
    {
     "name": "stdout",
     "output_type": "stream",
     "text": [
      "[1, 20, 3, 40, 5, 60, 7, 80, 9, 100]\n"
     ]
    }
   ],
   "source": [
    "A[0:9:2] = [1, 3, 5, 7, 9]\n",
    "\n",
    "print(A)"
   ]
  },
  {
   "cell_type": "markdown",
   "metadata": {},
   "source": [
    "Os elementos de uma lista podem ser objetos de qualquer tipo, inclusive funções:"
   ]
  },
  {
   "cell_type": "code",
   "execution_count": 29,
   "metadata": {},
   "outputs": [
    {
     "name": "stdout",
     "output_type": "stream",
     "text": [
      "-1.0\n"
     ]
    }
   ],
   "source": [
    "lista_sagaz = [1.0, 2.0-3j, np.cos]\n",
    "\n",
    "x = lista_sagaz[2](np.pi)\n",
    "\n",
    "print(x)"
   ]
  },
  {
   "cell_type": "markdown",
   "metadata": {},
   "source": [
    "Armazenamos a função cosseno na **lista_sagaz** e a acessamos na lista para calcular o cosseno de $\\pi$. Lembre-se de que o prefixo **np** antes de **cos** e **pi** é o identificador da biblioteca [NumPy](http://www.numpy.org/)."
   ]
  },
  {
   "cell_type": "markdown",
   "metadata": {},
   "source": [
    "#### *Mão na massa! *\n",
    "\n",
    "* Defina uma lista que contenha os números naturais de 1 a 10 e use um *slice* para acessar apenas os múltiplos de 3."
   ]
  },
  {
   "cell_type": "code",
   "execution_count": null,
   "metadata": {},
   "outputs": [],
   "source": []
  },
  {
   "cell_type": "markdown",
   "metadata": {},
   "source": [
    "### 4.2 Tuplas\n",
    "\n",
    "*Tuplas* são muito parecidas com as listas, com a diferença de que seus elementos não podem ser modificados. Ou seja, tuplas são *objetos imutáveis*.\n",
    "\n",
    "Definimos tuplas de maneira parecida com que definimos as listas, mas sem o colchete:"
   ]
  },
  {
   "cell_type": "code",
   "execution_count": 30,
   "metadata": {},
   "outputs": [],
   "source": [
    "tupla_boladona = 1,2,3"
   ]
  },
  {
   "cell_type": "markdown",
   "metadata": {},
   "source": [
    "A tupla acima armazena os valores 1, 2 e 3. \n",
    "\n",
    "Também podemos usar parênteses para definir as tuplas:"
   ]
  },
  {
   "cell_type": "code",
   "execution_count": 31,
   "metadata": {},
   "outputs": [],
   "source": [
    "tupla_mandada = (1,2,3)"
   ]
  },
  {
   "cell_type": "markdown",
   "metadata": {},
   "source": [
    "As tuplas **tupla_boladona** e **tupla_mandada** são iguais.\n",
    "\n",
    "Um uso muito prático das tuplas é na definição de vários objetos de uma só vez:"
   ]
  },
  {
   "cell_type": "code",
   "execution_count": 32,
   "metadata": {},
   "outputs": [],
   "source": [
    "a, b, c = 1, 2, 3"
   ]
  },
  {
   "cell_type": "code",
   "execution_count": 33,
   "metadata": {},
   "outputs": [
    {
     "name": "stdout",
     "output_type": "stream",
     "text": [
      "1\n",
      "2\n",
      "3\n"
     ]
    }
   ],
   "source": [
    "print(a)\n",
    "print(b)\n",
    "print(c)"
   ]
  },
  {
   "cell_type": "markdown",
   "metadata": {},
   "source": [
    "A notação das tuplas proporciona um método bem fácil para trocar os valores de objetos: "
   ]
  },
  {
   "cell_type": "code",
   "execution_count": 34,
   "metadata": {},
   "outputs": [],
   "source": [
    "a, b = b, a"
   ]
  },
  {
   "cell_type": "code",
   "execution_count": 35,
   "metadata": {},
   "outputs": [
    {
     "name": "stdout",
     "output_type": "stream",
     "text": [
      "2\n",
      "1\n"
     ]
    }
   ],
   "source": [
    "print(a)\n",
    "print(b)"
   ]
  },
  {
   "cell_type": "markdown",
   "metadata": {},
   "source": [
    "Em outras linguagens de programação, implementar essa simples operação não seria uma tarefa tão prática.\n",
    "\n",
    "O acesso a elementos das tuplas, assim como com as listas, também se dá com o *slice* na forma **nome_da_tupla [ start: end : intervalo ]**."
   ]
  },
  {
   "cell_type": "code",
   "execution_count": 36,
   "metadata": {},
   "outputs": [
    {
     "name": "stdout",
     "output_type": "stream",
     "text": [
      "(100, 300)\n"
     ]
    }
   ],
   "source": [
    "tupla_guardada = (100,200,300,400,500)\n",
    "\n",
    "print(tupla_guardada[0:3:2])"
   ]
  },
  {
   "cell_type": "markdown",
   "metadata": {},
   "source": [
    "#### *Mão na massa! *\n",
    "\n",
    "* Crie uma lista e uma tupla. Tente modificar um dos elementos de cada uma. O que ocorre? "
   ]
  },
  {
   "cell_type": "code",
   "execution_count": null,
   "metadata": {},
   "outputs": [],
   "source": []
  },
  {
   "cell_type": "markdown",
   "metadata": {},
   "source": [
    "### 4.3 Strings"
   ]
  },
  {
   "cell_type": "markdown",
   "metadata": {},
   "source": [
    "*Strings* são objetos imutáveis que armazenam caracteres. Definimos strings usando aspas duplas ou simples:"
   ]
  },
  {
   "cell_type": "code",
   "execution_count": 37,
   "metadata": {},
   "outputs": [
    {
     "data": {
      "text/plain": [
       "str"
      ]
     },
     "execution_count": 37,
     "metadata": {},
     "output_type": "execute_result"
    }
   ],
   "source": [
    "s1 = 'Oi! Eu sou uma string!'\n",
    "type(s1)"
   ]
  },
  {
   "cell_type": "code",
   "execution_count": 38,
   "metadata": {
    "scrolled": true
   },
   "outputs": [
    {
     "data": {
      "text/plain": [
       "str"
      ]
     },
     "execution_count": 38,
     "metadata": {},
     "output_type": "execute_result"
    }
   ],
   "source": [
    "s2 = \"Olá. Eu também sou uma string.\"\n",
    "type(s2)"
   ]
  },
  {
   "cell_type": "markdown",
   "metadata": {},
   "source": [
    "Podemos imprimir as strings na tela:"
   ]
  },
  {
   "cell_type": "code",
   "execution_count": 39,
   "metadata": {},
   "outputs": [
    {
     "name": "stdout",
     "output_type": "stream",
     "text": [
      "Oi! Eu sou uma string! Olá. Eu também sou uma string.\n"
     ]
    }
   ],
   "source": [
    "print(s1,s2)"
   ]
  },
  {
   "cell_type": "markdown",
   "metadata": {},
   "source": [
    "Podemos escrever strings diretamente dentro do comando **print**, sem atribuir identificadores a elas:"
   ]
  },
  {
   "cell_type": "code",
   "execution_count": 40,
   "metadata": {},
   "outputs": [
    {
     "name": "stdout",
     "output_type": "stream",
     "text": [
      "A velocidade média vale:  0.6666666666666666 m/s.\n"
     ]
    }
   ],
   "source": [
    "delta_S = 2.0\n",
    "delta_t = 3.0\n",
    "\n",
    "v = delta_S/delta_t\n",
    "\n",
    "print(\"A velocidade média vale: \",v, \"m/s.\")"
   ]
  },
  {
   "cell_type": "markdown",
   "metadata": {},
   "source": [
    "O acesso dos elementos de uma string usa o slice **nome_da_string [ start: end : intervalo ]**, exatamente da mesma forma que para as listas e as tuplas:"
   ]
  },
  {
   "cell_type": "code",
   "execution_count": 41,
   "metadata": {},
   "outputs": [
    {
     "name": "stdout",
     "output_type": "stream",
     "text": [
      "com dor\n"
     ]
    }
   ],
   "source": [
    "S = 'computador'\n",
    "\n",
    "print(S[0:3], S[7:])"
   ]
  },
  {
   "cell_type": "markdown",
   "metadata": {},
   "source": [
    "No comando acima, selecionamos as faixas **0:3** e **7:** da string **S**, deixando de fora a infame faixa **3:7**."
   ]
  },
  {
   "cell_type": "markdown",
   "metadata": {},
   "source": [
    "### 4.4 Dicionários\n",
    "\n",
    "Dicionários são estruturas mutáveis contendo objetos não ordenados cujos índices podem ser quaisquer objetos imutáveis.\n",
    "\n",
    "Dicionários são definidos entre chaves e seus elementos devem estar escritos na forma **índice:objeto**:"
   ]
  },
  {
   "cell_type": "code",
   "execution_count": 42,
   "metadata": {},
   "outputs": [
    {
     "name": "stdout",
     "output_type": "stream",
     "text": [
      "44\n"
     ]
    }
   ],
   "source": [
    "# dicionário armazenando massas molares de três substâncias\n",
    "# os índices dos objetos são strings contendo as fórmulas das substâncias\n",
    "massas_molares = {'H20': 18, 'CO2': 44, 'H2': 2}\n",
    "\n",
    "print(massas_molares['CO2'])"
   ]
  },
  {
   "cell_type": "code",
   "execution_count": 43,
   "metadata": {},
   "outputs": [
    {
     "name": "stdout",
     "output_type": "stream",
     "text": [
      "Alemanha\n"
     ]
    }
   ],
   "source": [
    "# dicionário armazenando os vencedores da copa do mundo fifa, de 1990 a 2014\n",
    "# os índices dos objetos são números inteiros representando os anos das copas\n",
    "\n",
    "vencedores_copas = {1990: 'Alemanha', 1994: 'Brasil', 1998: 'França',\\\n",
    "                    2002: 'Brasil', 2006: 'Itália', 2010: 'Espanha',\\\n",
    "                    2014: 'Alemanha', 2018: 'França'}\n",
    "\n",
    "print(vencedores_copas[2014])"
   ]
  },
  {
   "cell_type": "markdown",
   "metadata": {},
   "source": [
    "Dicionários são muito úteis para implementação de bancos de dados simples, como pode-se notar acima.\n",
    "\n",
    "### 4.5 Arrays NumPy\n",
    "\n",
    "*Arrays* são as estruturas implementadas na biblioteca [NumPy](http://www.numpy.org/) com o objetivo de providenciar uma forma conveniente e eficiente de se representar vetores e matrizes numéricas na linguagem Python. São as estruturas mais importantes para quem trabalha com computação científica e ciência de dados.\n",
    "\n",
    "Definimos uma array com  a função [np.array](https://docs.scipy.org/doc/numpy/reference/generated/numpy.array.html):"
   ]
  },
  {
   "cell_type": "code",
   "execution_count": 44,
   "metadata": {},
   "outputs": [
    {
     "name": "stdout",
     "output_type": "stream",
     "text": [
      "[1 2 3 4]\n"
     ]
    }
   ],
   "source": [
    "A = np.array([1,2,3,4])\n",
    "\n",
    "print(A)"
   ]
  },
  {
   "cell_type": "markdown",
   "metadata": {},
   "source": [
    "No caso acima, **A** representa um vetor (array unidimensional). O argumento da função [np.array](https://docs.scipy.org/doc/numpy/reference/generated/numpy.array.html) deve ser uma lista (por isso os colchetes dentro dos parênteses).\n",
    "\n",
    "Para definir uma matriz (array multidimensional), basta fornecer à função [np.array](https://docs.scipy.org/doc/numpy/reference/generated/numpy.array.html) uma lista que contenha várias outras listas que armazenem as linhas da matriz:"
   ]
  },
  {
   "cell_type": "code",
   "execution_count": 45,
   "metadata": {},
   "outputs": [
    {
     "name": "stdout",
     "output_type": "stream",
     "text": [
      "[[ 1  2  3  4]\n",
      " [ 5  6  7  8]\n",
      " [ 9 10 11 12]]\n"
     ]
    }
   ],
   "source": [
    "B = np.array([[1,2,3,4],[5,6,7,8],[9,10,11,12]])\n",
    "\n",
    "print(B)"
   ]
  },
  {
   "cell_type": "markdown",
   "metadata": {},
   "source": [
    "Não se perca com os parênteses e colchetes no comando acima! Os parênteses delimitam os argumentos da função, os colchetes mais externos delimitam a matriz e os colchetes internos delimitam as linhas da matriz.\n",
    "\n",
    "Para acessar os elementos de uma array, usamos como índices uma tupla de inteiros positivos:"
   ]
  },
  {
   "cell_type": "code",
   "execution_count": 46,
   "metadata": {
    "scrolled": false
   },
   "outputs": [
    {
     "name": "stdout",
     "output_type": "stream",
     "text": [
      "3\n"
     ]
    }
   ],
   "source": [
    "print(B[0,2])"
   ]
  },
  {
   "cell_type": "markdown",
   "metadata": {},
   "source": [
    "Também é possível usar *slices* como índices:"
   ]
  },
  {
   "cell_type": "code",
   "execution_count": 47,
   "metadata": {},
   "outputs": [
    {
     "data": {
      "text/plain": [
       "array([[2, 3, 4],\n",
       "       [6, 7, 8]])"
      ]
     },
     "execution_count": 47,
     "metadata": {},
     "output_type": "execute_result"
    }
   ],
   "source": [
    "B[0:2,1:4]"
   ]
  },
  {
   "cell_type": "code",
   "execution_count": 48,
   "metadata": {},
   "outputs": [
    {
     "data": {
      "text/plain": [
       "array([ 4,  8, 12])"
      ]
     },
     "execution_count": 48,
     "metadata": {},
     "output_type": "execute_result"
    }
   ],
   "source": [
    "B[:,3]"
   ]
  },
  {
   "cell_type": "markdown",
   "metadata": {},
   "source": [
    "Existem várias outras funções mais flexíveis para se definir arrays, dentre as quais se destacam:\n",
    "\n",
    "* [np.arange (start, end, interv)](https://docs.scipy.org/doc/numpy/reference/generated/numpy.arange.html): cria uma array unidimensional de elementos igualmente espaçados entre **start** (inclusive) e **end** (exclusive), indo de **interv** em **interv**;\n",
    "<br> <br>\n",
    "* [np.linspace (start, end, size)](https://docs.scipy.org/doc/numpy/reference/generated/numpy.linspace.html): cria uma array unidimensional de elementos igualmente espaçados entre **start** (inclusive) e **end** (inclusive), com número total de elementos igual a **size**;\n",
    "<br> <br>\n",
    "* [np.zeros (dim)](https://docs.scipy.org/doc/numpy/reference/generated/numpy.zeros.html): cria uma array com elementos nulos, de dimensão **dim**. Para criar uma array multidimensional com esse comando, devemos fornecer uma tupla como o argumento **dim** (ver exemplos abaixo);\n",
    "<br> <br>\n",
    "* [np.ones (dim)](https://docs.scipy.org/doc/numpy/reference/generated/numpy.ones.html): cria uma array com elementos unitários, de dimensão **dim**;\n",
    "<br> <br>\n",
    "* [np.zeros_like (A)](https://docs.scipy.org/doc/numpy/reference/generated/numpy.zeros_like.html): cria uma array de mesma dimensão que **A**, com elementos nulos;\n",
    "<br> <br>\n",
    "* [np.ones_like (A)](https://docs.scipy.org/doc/numpy/reference/generated/numpy.ones_like.html): cria uma array de mesma dimensão que **A**, com elementos unitários;\n",
    "<br> <br>\n",
    "* [np.random.standard_normal (dim)](https://docs.scipy.org/doc/numpy-1.15.0/reference/generated/numpy.random.standard_normal.html): cria uma array com elementos aleatórios amostrados da [distribuição normal padrão](https://pt.wikipedia.org/wiki/Distribui%C3%A7%C3%A3o_normal#Distribui%C3%A7%C3%A3o_normal_padr%C3%A3o), de dimensão **dim**.\n",
    "\n",
    "Exemplos de aplicações:"
   ]
  },
  {
   "cell_type": "code",
   "execution_count": 49,
   "metadata": {},
   "outputs": [
    {
     "name": "stdout",
     "output_type": "stream",
     "text": [
      "[0.  0.5 1.  1.5 2.  2.5 3.  3.5 4.  4.5]\n"
     ]
    }
   ],
   "source": [
    "A = np.arange(0.0, 5.0, 0.5)\n",
    "print(A)"
   ]
  },
  {
   "cell_type": "code",
   "execution_count": 50,
   "metadata": {},
   "outputs": [
    {
     "name": "stdout",
     "output_type": "stream",
     "text": [
      "[0.  2.5 5. ]\n"
     ]
    }
   ],
   "source": [
    "B = np.linspace(0.0, 5.0, 3)\n",
    "print(B)"
   ]
  },
  {
   "cell_type": "code",
   "execution_count": 51,
   "metadata": {},
   "outputs": [
    {
     "name": "stdout",
     "output_type": "stream",
     "text": [
      "[0. 0. 0.]\n"
     ]
    }
   ],
   "source": [
    "C = np.zeros(3)\n",
    "print(C)"
   ]
  },
  {
   "cell_type": "code",
   "execution_count": 52,
   "metadata": {},
   "outputs": [
    {
     "name": "stdout",
     "output_type": "stream",
     "text": [
      "[[0. 0. 0.]\n",
      " [0. 0. 0.]]\n"
     ]
    }
   ],
   "source": [
    "D = np.zeros((2,3))\n",
    "print(D)"
   ]
  },
  {
   "cell_type": "code",
   "execution_count": 53,
   "metadata": {},
   "outputs": [
    {
     "name": "stdout",
     "output_type": "stream",
     "text": [
      "[[1. 1. 1. 1. 1.]\n",
      " [1. 1. 1. 1. 1.]\n",
      " [1. 1. 1. 1. 1.]\n",
      " [1. 1. 1. 1. 1.]]\n"
     ]
    }
   ],
   "source": [
    "E = np.ones((4,5))\n",
    "print(E)"
   ]
  },
  {
   "cell_type": "code",
   "execution_count": 54,
   "metadata": {},
   "outputs": [
    {
     "name": "stdout",
     "output_type": "stream",
     "text": [
      "[[0. 0. 0. 0. 0.]\n",
      " [0. 0. 0. 0. 0.]\n",
      " [0. 0. 0. 0. 0.]\n",
      " [0. 0. 0. 0. 0.]]\n"
     ]
    }
   ],
   "source": [
    "F = np.zeros_like(E)\n",
    "print(F)"
   ]
  },
  {
   "cell_type": "code",
   "execution_count": 55,
   "metadata": {},
   "outputs": [
    {
     "name": "stdout",
     "output_type": "stream",
     "text": [
      "[[-2.0361778  -1.10286945  1.5294861 ]\n",
      " [ 0.35864004  0.99011373  0.34042628]]\n"
     ]
    }
   ],
   "source": [
    "G = np.random.standard_normal((2,3))\n",
    "print(G)"
   ]
  },
  {
   "cell_type": "markdown",
   "metadata": {},
   "source": [
    "Um dos usos mais importantes das arrays é em cálculos relacionados à Álgebra Linear. Muitas das funções que realizam esses cálculos estão disponíveis no módulo [linalg](https://docs.scipy.org/doc/numpy/reference/routines.linalg.html) da biblioteca [NumPy](http://www.numpy.org/). Alguns exemplos:\n",
    "\n",
    "* [operador **@**](https://docs.python.org/3/library/operator.html#module-operator): usado na forma **A@B**, efetua a multiplicação entre duas matrizes **A** e **B** . Obs: a função [np.matmul (A,B)](https://docs.scipy.org/doc/numpy/reference/generated/numpy.matmul.html#numpy.matmul) também efetua a multiplicação entre matrizes; \n",
    "<br> <br>\n",
    "* [operador **\\***](https://docs.python.org/3/library/operator.html#module-operator): usado na forma **A*B**, efetua a multiplicação entre duas matrizes **A** e **B** calculando os produtos entre os elementos de posições equivalentes, a chamada operação elemento a elemento, ou *element-wise*. Obs: a função [np.multiply (A,B)](https://docs.scipy.org/doc/numpy/reference/generated/numpy.multiply.html) também efetua a multiplicação elemento a elemento;\n",
    "<br> <br>\n",
    "* [atributo **T**](https://docs.scipy.org/doc/numpy/reference/generated/numpy.ndarray.T.html): armazena a transposta da matriz. Acessado na forma **A.T**, sendo **A** a matriz que se está transpondo;\n",
    "<br> <br>\n",
    "\n",
    "* [np.linalg.inv (A)](https://docs.scipy.org/doc/numpy/reference/generated/numpy.linalg.inv.html#numpy.linalg.inv): calcula a inversa da matriz **A**;\n",
    "<br> <br>\n",
    "\n",
    "* [np.linalg.norm (A)](https://docs.scipy.org/doc/numpy/reference/generated/numpy.linalg.norm.html#numpy.linalg.norm): calcula a norma da matriz ou vetor **A**;\n",
    "<br> <br>\n",
    "\n",
    "* [np.linalg.eigvals (A)](https://docs.scipy.org/doc/numpy/reference/generated/numpy.linalg.eigvals.html#numpy.linalg.eigvals): calcula os autovalores da matriz **A**.\n",
    "\n",
    "Exemplos de aplicações:"
   ]
  },
  {
   "cell_type": "code",
   "execution_count": 56,
   "metadata": {},
   "outputs": [
    {
     "name": "stdout",
     "output_type": "stream",
     "text": [
      "[[1 2]\n",
      " [3 4]]\n"
     ]
    }
   ],
   "source": [
    "A = np.array([[1,2],[3,4]])\n",
    "print(A)"
   ]
  },
  {
   "cell_type": "code",
   "execution_count": 57,
   "metadata": {},
   "outputs": [
    {
     "name": "stdout",
     "output_type": "stream",
     "text": [
      "[[5 6]\n",
      " [7 8]]\n"
     ]
    }
   ],
   "source": [
    "B = np.array([[5,6],[7,8]])\n",
    "print(B)"
   ]
  },
  {
   "cell_type": "code",
   "execution_count": 58,
   "metadata": {},
   "outputs": [
    {
     "name": "stdout",
     "output_type": "stream",
     "text": [
      "[[19 22]\n",
      " [43 50]]\n"
     ]
    }
   ],
   "source": [
    "C = A@B\n",
    "print(C)"
   ]
  },
  {
   "cell_type": "code",
   "execution_count": 59,
   "metadata": {},
   "outputs": [
    {
     "name": "stdout",
     "output_type": "stream",
     "text": [
      "[[ 5 12]\n",
      " [21 32]]\n"
     ]
    }
   ],
   "source": [
    "D = A*B\n",
    "print(D)"
   ]
  },
  {
   "cell_type": "code",
   "execution_count": 60,
   "metadata": {},
   "outputs": [
    {
     "name": "stdout",
     "output_type": "stream",
     "text": [
      "[[ 5 21]\n",
      " [12 32]]\n"
     ]
    }
   ],
   "source": [
    "E = D.T\n",
    "print(E)"
   ]
  },
  {
   "cell_type": "code",
   "execution_count": 61,
   "metadata": {},
   "outputs": [
    {
     "name": "stdout",
     "output_type": "stream",
     "text": [
      "[[-2.   1. ]\n",
      " [ 1.5 -0.5]]\n"
     ]
    }
   ],
   "source": [
    "F = np.linalg.inv(A)\n",
    "print(F)"
   ]
  },
  {
   "cell_type": "code",
   "execution_count": 62,
   "metadata": {},
   "outputs": [
    {
     "name": "stdout",
     "output_type": "stream",
     "text": [
      "13.19090595827292\n"
     ]
    }
   ],
   "source": [
    "G = np.linalg.norm(B)\n",
    "print(G)"
   ]
  },
  {
   "cell_type": "code",
   "execution_count": 63,
   "metadata": {},
   "outputs": [
    {
     "name": "stdout",
     "output_type": "stream",
     "text": [
      "[-0.37228132  5.37228132]\n"
     ]
    }
   ],
   "source": [
    "H = np.linalg.eigvals(A)\n",
    "print(H)"
   ]
  },
  {
   "cell_type": "markdown",
   "metadata": {},
   "source": [
    "#### *Mão na massa! *\n",
    "\n",
    "* Crie uma array com todos os números pares entre 100 e 200."
   ]
  },
  {
   "cell_type": "code",
   "execution_count": null,
   "metadata": {},
   "outputs": [],
   "source": []
  },
  {
   "cell_type": "markdown",
   "metadata": {},
   "source": [
    "* Crie duas matrizes de formato 2x3, chamadas **A** e **B**, com elementos aleatórios amostrados da distribuição normal padrão;\n",
    "* Multiplique **A** pela transposta de **B**, guardando o resultado na matriz **C**;\n",
    "* Multiplique **A** e **B** elemento a elemento, guardando o resultado na matriz **D**;\n",
    "* Multiplique os elementos da primeira coluna de **C** pelo elemento **D**$_{\\textbf{11}}$, e substitua a segunda coluna de **A** pelo resultado.\n",
    "\n",
    "Imprima os resultados ao término de cada um dos quatro passos acima."
   ]
  },
  {
   "cell_type": "code",
   "execution_count": null,
   "metadata": {},
   "outputs": [],
   "source": []
  },
  {
   "cell_type": "markdown",
   "metadata": {},
   "source": [
    "## 5. Gráficos - A biblioteca [Matplotlib](https://matplotlib.org/)"
   ]
  },
  {
   "cell_type": "markdown",
   "metadata": {},
   "source": [
    "### 5.1 Gráficos bidimensionais (2D)\n",
    "\n",
    "De modo a traçar gráficos 2D, utilizaremos o módulo [PyPlot](https://matplotlib.org/api/pyplot_api.html), disponível  biblioteca [Matplotlib](https://matplotlib.org/):"
   ]
  },
  {
   "cell_type": "code",
   "execution_count": 64,
   "metadata": {},
   "outputs": [],
   "source": [
    "import matplotlib.pyplot as plt"
   ]
  },
  {
   "cell_type": "markdown",
   "metadata": {},
   "source": [
    "A título de exemplo, plotaremos o gráfico bidimensional da função $y = \\cos(x)$, no intervalo $x = [-2\\pi,2\\pi]$.\n",
    "\n",
    "O primeiro passo é definir em um vetor os pontos do domínio da função:"
   ]
  },
  {
   "cell_type": "code",
   "execution_count": 65,
   "metadata": {},
   "outputs": [],
   "source": [
    "x = np.linspace(-2*np.pi,2*np.pi,50)"
   ]
  },
  {
   "cell_type": "markdown",
   "metadata": {},
   "source": [
    "O segundo passo é definir um vetor que armazene os valores da imagem:"
   ]
  },
  {
   "cell_type": "code",
   "execution_count": 66,
   "metadata": {},
   "outputs": [],
   "source": [
    "y = np.cos(x)"
   ]
  },
  {
   "cell_type": "markdown",
   "metadata": {},
   "source": [
    "Definidos o domínio e a imagem, só falta plotar! Para isso, utilizamos a função [plt.plot](https://matplotlib.org/api/pyplot_api.html#matplotlib.pyplot.plot):"
   ]
  },
  {
   "cell_type": "code",
   "execution_count": 67,
   "metadata": {},
   "outputs": [
    {
     "data": {
      "image/png": "[encoded data removed]",
      "text/plain": [
       "<Figure size 432x288 with 1 Axes>"
      ]
     },
     "metadata": {},
     "output_type": "display_data"
    }
   ],
   "source": [
    "plt.plot(x,y);"
   ]
  },
  {
   "cell_type": "markdown",
   "metadata": {},
   "source": [
    "A função [plt.plot](https://matplotlib.org/api/pyplot_api.html#matplotlib.pyplot.plot) aceita como argumentos os vetores que armazenam os elementos do domínio e da imagem, nessa ordem.\n",
    "\n",
    "Podemos customizar o tipo de curva por meio de uma string fornecida como terceiro argumento à função [plt.plot](https://matplotlib.org/api/pyplot_api.html#matplotlib.pyplot.plot). Por exemplo, se quisermos traçar a mesma curva acima com asteriscos vermelhos, basta digitar:"
   ]
  },
  {
   "cell_type": "code",
   "execution_count": 68,
   "metadata": {},
   "outputs": [
    {
     "data": {
      "image/png": "[encoded data removed]",
      "text/plain": [
       "<Figure size 432x288 with 1 Axes>"
      ]
     },
     "metadata": {},
     "output_type": "display_data"
    }
   ],
   "source": [
    "plt.plot(x,y,'*r');"
   ]
  },
  {
   "cell_type": "markdown",
   "metadata": {},
   "source": [
    "Uma lista completa dos marcadores para customizar as curvas pode ser acessada por meio do *help* da função:"
   ]
  },
  {
   "cell_type": "code",
   "execution_count": 69,
   "metadata": {},
   "outputs": [
    {
     "name": "stdout",
     "output_type": "stream",
     "text": [
      "Help on function plot in module matplotlib.pyplot:\n",
      "\n",
      "plot(*args, **kwargs)\n",
      "    Plot y versus x as lines and/or markers.\n",
      "    \n",
      "    Call signatures::\n",
      "    \n",
      "        plot([x], y, [fmt], data=None, **kwargs)\n",
      "        plot([x], y, [fmt], [x2], y2, [fmt2], ..., **kwargs)\n",
      "    \n",
      "    The coordinates of the points or line nodes are given by *x*, *y*.\n",
      "    \n",
      "    The optional parameter *fmt* is a convenient way for defining basic\n",
      "    formatting like color, marker and linestyle. It's a shortcut string\n",
      "    notation described in the *Notes* section below.\n",
      "    \n",
      "    >>> plot(x, y)        # plot x and y using default line style and color\n",
      "    >>> plot(x, y, 'bo')  # plot x and y using blue circle markers\n",
      "    >>> plot(y)           # plot y using x as index array 0..N-1\n",
      "    >>> plot(y, 'r+')     # ditto, but with red plusses\n",
      "    \n",
      "    You can use `.Line2D` properties as keyword arguments for more\n",
      "    control on the  appearance. Line properties and *fmt* can be mixed.\n",
      "    The following two calls yield identical results:\n",
      "    \n",
      "    >>> plot(x, y, 'go--', linewidth=2, markersize=12)\n",
      "    >>> plot(x, y, color='green', marker='o', linestyle='dashed',\n",
      "            linewidth=2, markersize=12)\n",
      "    \n",
      "    When conflicting with *fmt*, keyword arguments take precedence.\n",
      "    \n",
      "    **Plotting labelled data**\n",
      "    \n",
      "    There's a convenient way for plotting objects with labelled data (i.e.\n",
      "    data that can be accessed by index ``obj['y']``). Instead of giving\n",
      "    the data in *x* and *y*, you can provide the object in the *data*\n",
      "    parameter and just give the labels for *x* and *y*::\n",
      "    \n",
      "    >>> plot('xlabel', 'ylabel', data=obj)\n",
      "    \n",
      "    All indexable objects are supported. This could e.g. be a `dict`, a\n",
      "    `pandas.DataFame` or a structured numpy array.\n",
      "    \n",
      "    \n",
      "    **Plotting multiple sets of data**\n",
      "    \n",
      "    There are various ways to plot multiple sets of data.\n",
      "    \n",
      "    - The most straight forward way is just to call `plot` multiple times.\n",
      "      Example:\n",
      "    \n",
      "      >>> plot(x1, y1, 'bo')\n",
      "      >>> plot(x2, y2, 'go')\n",
      "    \n",
      "    - Alternatively, if your data is already a 2d array, you can pass it\n",
      "      directly to *x*, *y*. A separate data set will be drawn for every\n",
      "      column.\n",
      "    \n",
      "      Example: an array ``a`` where the first column represents the *x*\n",
      "      values and the other columns are the *y* columns::\n",
      "    \n",
      "      >>> plot(a[0], a[1:])\n",
      "    \n",
      "    - The third way is to specify multiple sets of *[x]*, *y*, *[fmt]*\n",
      "      groups::\n",
      "    \n",
      "      >>> plot(x1, y1, 'g^', x2, y2, 'g-')\n",
      "    \n",
      "      In this case, any additional keyword argument applies to all\n",
      "      datasets. Also this syntax cannot be combined with the *data*\n",
      "      parameter.\n",
      "    \n",
      "    By default, each line is assigned a different style specified by a\n",
      "    'style cycle'. The *fmt* and line property parameters are only\n",
      "    necessary if you want explicit deviations from these defaults.\n",
      "    Alternatively, you can also change the style cycle using the\n",
      "    'axes.prop_cycle' rcParam.\n",
      "    \n",
      "    Parameters\n",
      "    ----------\n",
      "    x, y : array-like or scalar\n",
      "        The horizontal / vertical coordinates of the data points.\n",
      "        *x* values are optional. If not given, they default to\n",
      "        ``[0, ..., N-1]``.\n",
      "    \n",
      "        Commonly, these parameters are arrays of length N. However,\n",
      "        scalars are supported as well (equivalent to an array with\n",
      "        constant value).\n",
      "    \n",
      "        The parameters can also be 2-dimensional. Then, the columns\n",
      "        represent separate data sets.\n",
      "    \n",
      "    fmt : str, optional\n",
      "        A format string, e.g. 'ro' for red circles. See the *Notes*\n",
      "        section for a full description of the format strings.\n",
      "    \n",
      "        Format strings are just an abbreviation for quickly setting\n",
      "        basic line properties. All of these and more can also be\n",
      "        controlled by keyword arguments.\n",
      "    \n",
      "    data : indexable object, optional\n",
      "        An object with labelled data. If given, provide the label names to\n",
      "        plot in *x* and *y*.\n",
      "    \n",
      "        .. note::\n",
      "            Technically there's a slight ambiguity in calls where the\n",
      "            second label is a valid *fmt*. `plot('n', 'o', data=obj)`\n",
      "            could be `plt(x, y)` or `plt(y, fmt)`. In such cases,\n",
      "            the former interpretation is chosen, but a warning is issued.\n",
      "            You may suppress the warning by adding an empty format string\n",
      "            `plot('n', 'o', '', data=obj)`.\n",
      "    \n",
      "    \n",
      "    Other Parameters\n",
      "    ----------------\n",
      "    scalex, scaley : bool, optional, default: True\n",
      "        These parameters determined if the view limits are adapted to\n",
      "        the data limits. The values are passed on to `autoscale_view`.\n",
      "    \n",
      "    **kwargs : `.Line2D` properties, optional\n",
      "        *kwargs* are used to specify properties like a line label (for\n",
      "        auto legends), linewidth, antialiasing, marker face color.\n",
      "        Example::\n",
      "    \n",
      "        >>> plot([1,2,3], [1,2,3], 'go-', label='line 1', linewidth=2)\n",
      "        >>> plot([1,2,3], [1,4,9], 'rs',  label='line 2')\n",
      "    \n",
      "        If you make multiple lines with one plot command, the kwargs\n",
      "        apply to all those lines.\n",
      "    \n",
      "        Here is a list of available `.Line2D` properties:\n",
      "    \n",
      "          agg_filter: a filter function, which takes a (m, n, 3) float array and a dpi value, and returns a (m, n, 3) array \n",
      "      alpha: float (0.0 transparent through 1.0 opaque) \n",
      "      animated: bool \n",
      "      antialiased or aa: bool \n",
      "      clip_box: a `.Bbox` instance \n",
      "      clip_on: bool \n",
      "      clip_path: [(`~matplotlib.path.Path`, `.Transform`) | `.Patch` | None] \n",
      "      color or c: any matplotlib color \n",
      "      contains: a callable function \n",
      "      dash_capstyle: ['butt' | 'round' | 'projecting'] \n",
      "      dash_joinstyle: ['miter' | 'round' | 'bevel'] \n",
      "      dashes: sequence of on/off ink in points \n",
      "      drawstyle: ['default' | 'steps' | 'steps-pre' | 'steps-mid' | 'steps-post'] \n",
      "      figure: a `.Figure` instance \n",
      "      fillstyle: ['full' | 'left' | 'right' | 'bottom' | 'top' | 'none'] \n",
      "      gid: an id string \n",
      "      label: object \n",
      "      linestyle or ls: ['solid' | 'dashed', 'dashdot', 'dotted' | (offset, on-off-dash-seq) | ``'-'`` | ``'--'`` | ``'-.'`` | ``':'`` | ``'None'`` | ``' '`` | ``''``]\n",
      "      linewidth or lw: float value in points \n",
      "      marker: :mod:`A valid marker style <matplotlib.markers>`\n",
      "      markeredgecolor or mec: any matplotlib color \n",
      "      markeredgewidth or mew: float value in points \n",
      "      markerfacecolor or mfc: any matplotlib color \n",
      "      markerfacecoloralt or mfcalt: any matplotlib color \n",
      "      markersize or ms: float \n",
      "      markevery: [None | int | length-2 tuple of int | slice | list/array of int | float | length-2 tuple of float]\n",
      "      path_effects: `.AbstractPathEffect` \n",
      "      picker: float distance in points or callable pick function ``fn(artist, event)`` \n",
      "      pickradius: float distance in points\n",
      "      rasterized: bool or None \n",
      "      sketch_params: (scale: float, length: float, randomness: float) \n",
      "      snap: bool or None \n",
      "      solid_capstyle: ['butt' | 'round' |  'projecting'] \n",
      "      solid_joinstyle: ['miter' | 'round' | 'bevel'] \n",
      "      transform: a :class:`matplotlib.transforms.Transform` instance \n",
      "      url: a url string \n",
      "      visible: bool \n",
      "      xdata: 1D array \n",
      "      ydata: 1D array \n",
      "      zorder: float \n",
      "    \n",
      "    Returns\n",
      "    -------\n",
      "    lines\n",
      "        A list of `.Line2D` objects representing the plotted data.\n",
      "    \n",
      "    \n",
      "    See Also\n",
      "    --------\n",
      "    scatter : XY scatter plot with markers of variing size and/or color (\n",
      "        sometimes also called bubble chart).\n",
      "    \n",
      "    \n",
      "    Notes\n",
      "    -----\n",
      "    **Format Strings**\n",
      "    \n",
      "    A format string consists of a part for color, marker and line::\n",
      "    \n",
      "        fmt = '[color][marker][line]'\n",
      "    \n",
      "    Each of them is optional. If not provided, the value from the style\n",
      "    cycle is used. Exception: If ``line`` is given, but no ``marker``,\n",
      "    the data will be a line without markers.\n",
      "    \n",
      "    **Colors**\n",
      "    \n",
      "    The following color abbreviations are supported:\n",
      "    \n",
      "    =============    ===============================\n",
      "    character        color\n",
      "    =============    ===============================\n",
      "    ``'b'``          blue\n",
      "    ``'g'``          green\n",
      "    ``'r'``          red\n",
      "    ``'c'``          cyan\n",
      "    ``'m'``          magenta\n",
      "    ``'y'``          yellow\n",
      "    ``'k'``          black\n",
      "    ``'w'``          white\n",
      "    =============    ===============================\n",
      "    \n",
      "    If the color is the only part of the format string, you can\n",
      "    additionally use any  `matplotlib.colors` spec, e.g. full names\n",
      "    (``'green'``) or hex strings (``'#008000'``).\n",
      "    \n",
      "    **Markers**\n",
      "    \n",
      "    =============    ===============================\n",
      "    character        description\n",
      "    =============    ===============================\n",
      "    ``'.'``          point marker\n",
      "    ``','``          pixel marker\n",
      "    ``'o'``          circle marker\n",
      "    ``'v'``          triangle_down marker\n",
      "    ``'^'``          triangle_up marker\n",
      "    ``'<'``          triangle_left marker\n",
      "    ``'>'``          triangle_right marker\n",
      "    ``'1'``          tri_down marker\n",
      "    ``'2'``          tri_up marker\n",
      "    ``'3'``          tri_left marker\n",
      "    ``'4'``          tri_right marker\n",
      "    ``'s'``          square marker\n",
      "    ``'p'``          pentagon marker\n",
      "    ``'*'``          star marker\n",
      "    ``'h'``          hexagon1 marker\n",
      "    ``'H'``          hexagon2 marker\n",
      "    ``'+'``          plus marker\n",
      "    ``'x'``          x marker\n",
      "    ``'D'``          diamond marker\n",
      "    ``'d'``          thin_diamond marker\n",
      "    ``'|'``          vline marker\n",
      "    ``'_'``          hline marker\n",
      "    =============    ===============================\n",
      "    \n",
      "    **Line Styles**\n",
      "    \n",
      "    =============    ===============================\n",
      "    character        description\n",
      "    =============    ===============================\n",
      "    ``'-'``          solid line style\n",
      "    ``'--'``         dashed line style\n",
      "    ``'-.'``         dash-dot line style\n",
      "    ``':'``          dotted line style\n",
      "    =============    ===============================\n",
      "    \n",
      "    Example format strings::\n",
      "    \n",
      "        'b'    # blue markers with default shape\n",
      "        'ro'   # red circles\n",
      "        'g-'   # green solid line\n",
      "        '--'   # dashed line with default color\n",
      "        'k^:'  # black triangle_up markers connected by a dotted line\n",
      "    \n",
      "    .. note::\n",
      "        In addition to the above described arguments, this function can take a\n",
      "        **data** keyword argument. If such a **data** argument is given, the\n",
      "        following arguments are replaced by **data[<arg>]**:\n",
      "    \n",
      "        * All arguments with the following names: 'x', 'y'.\n",
      "\n"
     ]
    }
   ],
   "source": [
    "help(plt.plot)"
   ]
  },
  {
   "cell_type": "markdown",
   "metadata": {},
   "source": [
    "Sempre use o *help* quando surgirem dúvidas sobre uma função!\n",
    "\n",
    "O seguinte exemplo ilustra o traçado de várias curvas em uma mesma janela e o uso de comandos para especificar os limites dos eixos e para atribuir um título ao gráfico e legendas aos eixos e às curvas:"
   ]
  },
  {
   "cell_type": "code",
   "execution_count": 70,
   "metadata": {},
   "outputs": [
    {
     "data": {
      "image/png": "[encoded data removed]",
      "text/plain": [
       "<Figure size 432x288 with 1 Axes>"
      ]
     },
     "metadata": {},
     "output_type": "display_data"
    }
   ],
   "source": [
    "# definindo pontos do eixo x\n",
    "x = np.arange(0.0, 1.0, 0.001)\n",
    "\n",
    "# plotando quatro curvas\n",
    "plt.plot(x, x**2, label ='$y = x^2$')\n",
    "plt.plot(x, x**3, label = '$y = x^3$')\n",
    "plt.plot(x, x**(1/2), label = '$y = \\sqrt{x}$')\n",
    "plt.plot(x, x**(1/3), label='$y = \\sqrt[3]{x}$')\n",
    "\n",
    "# limites dos eixos: função axis\n",
    "# o argumento deve ser uma lista na forma [xmin, xmax, ymin, ymax]\n",
    "plt.axis([0, 1, 0, 1])\n",
    "\n",
    "# título do gráfico: função title\n",
    "plt.title('Gráficos boladões')\n",
    "\n",
    "# legendas dos eixos: funções xlabel e ylabel\n",
    "plt.xlabel('Eixo x boladão')\n",
    "plt.ylabel('Eixo y boladão')\n",
    "\n",
    "# legendas das curvas: função legend\n",
    "plt.legend();"
   ]
  },
  {
   "cell_type": "markdown",
   "metadata": {},
   "source": [
    "Para nomear cada curva, fornecemos à função [plt.plot](https://matplotlib.org/api/pyplot_api.html#matplotlib.pyplot.plot) um argumento na forma **label = 'string' **. Essas strings estão delimitadas, além das aspas, por cifrões ($). Isso significa que a linguagem de marcação [LaTeX](https://www.latex-project.org/) foi usada para escrever os símbolos matemáticos nessas strings. \n",
    "\n",
    "Na biblioteca [Matplotlib](https://matplotlib.org/), há vários comandos úteis para se traçar os mais diversos tipos de gráficos bidimensionais, como [pie](https://matplotlib.org/api/pyplot_api.html?highlight=matplotlib\\%20pyplot%20pie#matplotlib.pyplot.pie) (gráficos de torta), [bar](https://matplotlib.org/api/pyplot_api.html#matplotlib.pyplot.bar) (gráficos de barras), entre outros."
   ]
  },
  {
   "cell_type": "markdown",
   "metadata": {},
   "source": [
    "#### *Mão na massa! *\n",
    "\n",
    "* Plote as funções arco seno, arco cosseno e arco tangente hiperbólicas nos domínios $x=[-2,2], [1,2]$ e $]-1,1[$, respectivamente. Nomeie os eixos $x$ e $y$ e dê um título e uma legenda a seu gráfico."
   ]
  },
  {
   "cell_type": "code",
   "execution_count": null,
   "metadata": {},
   "outputs": [],
   "source": []
  },
  {
   "cell_type": "markdown",
   "metadata": {},
   "source": [
    "### 5.2 Gráficos tridimensionais (3D)\n",
    "\n",
    "A biblioteca [Matplotlib](https://matplotlib.org/) tradicionalmente é usada para traçar gráficos 2D, mas podemos traçar gráficos 3D utilizando o módulo [Axes3D](https://matplotlib.org/mpl_toolkits/mplot3d/api.html#module-mpl_toolkits.mplot3d.axes3d):"
   ]
  },
  {
   "cell_type": "code",
   "execution_count": 71,
   "metadata": {},
   "outputs": [],
   "source": [
    "from mpl_toolkits.mplot3d import Axes3D"
   ]
  },
  {
   "cell_type": "markdown",
   "metadata": {},
   "source": [
    "Como exemplo, plotaremos a superfície da função $f(x,y) = x^2+y^2$ no intervalo $x = [-4,4]$ e $y = [-4,4]$.\n",
    "\n",
    "A lógica dos comandos é a mesma que para os gráficos 2D: devemos especificar o domínio, definir os valores da curva nos pontos do domínio e plotar. Em gráficos 3D, no entanto, existe uma complicação adicional: os pontos do domínio fazem parte de uma malha de pontos bidimensional. De modo a especificar essa malha de pontos, usamos a função [np.meshgrid](https://docs.scipy.org/doc/numpy/reference/generated/numpy.meshgrid.html):"
   ]
  },
  {
   "cell_type": "code",
   "execution_count": 72,
   "metadata": {},
   "outputs": [],
   "source": [
    "x = y = np.linspace(-4, 4, 50)\n",
    "X, Y = np.meshgrid(x, y)"
   ]
  },
  {
   "cell_type": "markdown",
   "metadata": {},
   "source": [
    "A função [np.meshgrid](https://docs.scipy.org/doc/numpy/reference/generated/numpy.meshgrid.html) aceita como entrada vetores unidimensionais que armazenam os pontos dos eixos $x$ e $y$ e retorna duas matrizes (**X** e **Y** no caso acima) contendo os pontos da malha bidimensional.\n",
    "\n",
    "Obtidos esses pontos, calculamos a matriz que contém os pontos da imagem por meio da própria fórmula da função:"
   ]
  },
  {
   "cell_type": "code",
   "execution_count": 73,
   "metadata": {},
   "outputs": [],
   "source": [
    "Z = (X**2 + Y**2)"
   ]
  },
  {
   "cell_type": "markdown",
   "metadata": {},
   "source": [
    "Tudo calculado! Agora só falta plotar:"
   ]
  },
  {
   "cell_type": "code",
   "execution_count": 74,
   "metadata": {},
   "outputs": [
    {
     "data": {
      "image/png": "[encoded data removed]",
      "text/plain": [
       "<Figure size 432x288 with 1 Axes>"
      ]
     },
     "metadata": {},
     "output_type": "display_data"
    }
   ],
   "source": [
    "fig, ax = plt.subplots(subplot_kw={'projection': '3d'})\n",
    "ax.plot_surface(X, Y, Z);"
   ]
  },
  {
   "cell_type": "markdown",
   "metadata": {},
   "source": [
    "Fizemos uso da função [plt.subplots](https://matplotlib.org/devdocs/api/_as_gen/matplotlib.pyplot.subplots.html) para criar uma figura (objeto **fig**) contendo um gráfico 3D (objeto **ax**). Uma vez criada a figura, usamos a função [plt.plot_surface](https://matplotlib.org/mpl_toolkits/mplot3d/tutorial.html#surface-plots) para plotar a superfície desejada utilizando os pontos armazenados em **X**, **Y** e **Z**.\n",
    "\n",
    "Existem vários outros tipos de gráficos tridimensionais que podem ser plotados com a biblioteca [Matplotlib](https://matplotlib.org/). Caso tenha curiosidade, dê uma olhada no [tutorial](https://matplotlib.org/mpl_toolkits/mplot3d/tutorial.html) do módulo [mplot3d](https://matplotlib.org/mpl_toolkits/mplot3d/api.html#mplot3d-api)."
   ]
  },
  {
   "cell_type": "markdown",
   "metadata": {},
   "source": [
    "#### *Mão na massa! *\n",
    "\n",
    "* Plote a superfície da função $f(x,y) = \\cos(x^2) + \\sin^3(y)$ no intervalo $x = [-4,4]$ e $y = [-4,4]$."
   ]
  },
  {
   "cell_type": "code",
   "execution_count": null,
   "metadata": {},
   "outputs": [],
   "source": []
  },
  {
   "cell_type": "markdown",
   "metadata": {},
   "source": [
    "## 6. Estruturas de controle"
   ]
  },
  {
   "cell_type": "markdown",
   "metadata": {},
   "source": [
    "Estruturas de controle são o coração da arte da programação. Elas são usadas para controlar o fluxo de execução do código por meio da automatização de *tomadas de decisão* e de *tarefas repetitivas*.\n",
    "\n",
    "São divididas em dois tipos:\n",
    "\n",
    "* **Estruturas condicionais**, usadas para automatizar tomadas de decisão;\n",
    "* **Estruturas iterativas**, usadas para automatizar tarefas repetitivas.\n",
    "\n",
    "### 6.1. Estruturas condicionais\n",
    "\n",
    "As estruturas condicionais automatizam tomadas de decisão por meio da avaliação de expressões lógicas. *Expressões lógicas* são sentenças matemáticas que podem ser classificadas como verdadeiras ou falsas.\n",
    "\n",
    "Por exemplo, as seguintes sentenças são expressões lógicas:\n",
    "\n",
    "* 3 > 2 (V)\n",
    "* 2 > 5 (F)\n",
    "* 3 = 3 (V)\n",
    "* 3 = 3 ou 3 = 4 (V)\n",
    "* 3 = 3 e 3 = 4 (F)\n",
    "\n",
    "Estudaremos uma estrutura condicional em particular: o bloco **if**.\n",
    "\n",
    "#### 6.1.1. O bloco if\n",
    "\n",
    "O bloco **if** (*if* significa *se*, em inglês) avalia uma expressão lógica para decidir se executa ou não um conjunto de comandos. Se o resultado da expressão for verdadeiro, os comandos são executados. Se for falso, não são executados. \n",
    "\n",
    "No exemplo a seguir, é requerido ao usuário que informe um valor de temperatura. O bloco **if** é então utilizado para determinar em qual estado físico a água se encontra nessa temperatura:"
   ]
  },
  {
   "cell_type": "code",
   "execution_count": 75,
   "metadata": {},
   "outputs": [
    {
     "name": "stdout",
     "output_type": "stream",
     "text": [
      "Insira uma temperatura em graus Celsius, por favor: 50\n",
      "Água no estado líquido.\n"
     ]
    }
   ],
   "source": [
    "T = float(input(\"Insira uma temperatura em graus Celsius, por favor: \"))\n",
    "\n",
    "if T<-273.15:\n",
    "    print('Temperatura abaixo do zero absoluto!')\n",
    "elif T>-273.15 and T<0:\n",
    "    print('Água no estado sólido.')\n",
    "elif T==0:\n",
    "    print('Água no equilíbrio sólido-líquido.')\n",
    "elif T>0 and T<100:\n",
    "    print('Água no estado líquido.')\n",
    "elif T==100:\n",
    "    print('Água no equilibrio líquido-vapor.')\n",
    "else:\n",
    "    print('Água no estado vapor.')"
   ]
  },
  {
   "cell_type": "markdown",
   "metadata": {},
   "source": [
    "A temperatura é obtida do usuário por meio das funções **input** (que serve para solicitar e receber a temperatura) e **float** (que converte a string fornecida à função **input** em um objeto numérico). No caso acima, a temperatura informada foi 25$^{\\circ}$C.\n",
    "\n",
    "Quanto ao bloco **if** em si, alguns detalhes merecem comentário:\n",
    "\n",
    "* No final de cada expressão lógica, deve haver um sinal de dois-pontos (**:**). Esquecer esse sinal é um erro muito comum.\n",
    "* Para testar expressões lógicas adicionais à primeira, a palavra-chave **elif** deve ser utilizada. Para testar a condição complementar em relação a todas as condições testadas, a palavra-chave **else** deve ser utilizada. Tanto o uso de **elif** quanto o de **else** são opcionais.\n",
    "* A igualdade lógica é representada por um duplo sinal de igual (**==**).\n",
    "* O conectivo **e** é representado pela sua tradução em inglês **and** (o mesmo se dá com **ou** e **não**, representados por **or** e **not**, respectivamente).\n",
    "* A indentação (recuo do texto logo após o sinal de dois-pontos) é obrigatória em Python. É justamente a indentação que define quais comandos estão hierarquicamente subordinados ao **if**, ou seja, quais comandos devem ser executados no caso de a condição testada ser verdadeira. Observe o seguinte exemplo:"
   ]
  },
  {
   "cell_type": "code",
   "execution_count": 76,
   "metadata": {},
   "outputs": [
    {
     "name": "stdout",
     "output_type": "stream",
     "text": [
      "essa string vai ser impressa pq não faz parte do if.\n"
     ]
    }
   ],
   "source": [
    "if (100>2000):\n",
    "    print('se esta string for impressa, significa que 100 é maior que 2000!')\n",
    "    print('se o python imprimir essa string, ele ficou doido!')\n",
    "print('essa string vai ser impressa pq não faz parte do if.')"
   ]
  },
  {
   "cell_type": "markdown",
   "metadata": {},
   "source": [
    "Os dois primeiros comandos, subordinados ao bloco **if**, não foram executados porque a expressão lógica testada é claramente falsa. O terceiro comando, no entanto, por estar no nível de indentação normal do código, indica o fim do bloco **if** e é executado normalmente.\n",
    "\n",
    "A indentação é obrigatória também em relação a outros blocos de comandos que estudaremos, como **while**, **for** e **def**."
   ]
  },
  {
   "cell_type": "markdown",
   "metadata": {},
   "source": [
    "#### *Mão na massa! *\n",
    "\n",
    "* Escreva um código que solicite um valor inteiro ao usuário e exiba uma mensagem indicando se esse inteiro é par ou ímpar (obs: talvez você se interesse pelo operador módulo, denotado pelo símbolo **%**)."
   ]
  },
  {
   "cell_type": "code",
   "execution_count": null,
   "metadata": {},
   "outputs": [],
   "source": []
  },
  {
   "cell_type": "markdown",
   "metadata": {},
   "source": [
    "### 6.2. Estruturas iterativas\n",
    "\n",
    "Estruturas iterativas automatizam tarefas repetitivas. Estudaremos aqui dois tipos de estruturas iterativas: o bloco **while** e o bloco **for**.\n",
    "\n",
    "#### 6.2.1. O bloco while\n",
    "\n",
    "O bloco **while** (*while* significa *enquanto*, em inglês), assim como o **if**, também avalia uma expressão lógica para decidir se executa um conjunto de comandos ou não. A diferença é que, no bloco **while**, os comandos são executados repetidamente enquanto a expressão lógica testada permanece verdadeira. Cada repetição de comandos é chamada de *iteração*.\n",
    "\n",
    "No exemplo a seguir, os números inteiros de 10 até 1 são impressos em tela:"
   ]
  },
  {
   "cell_type": "code",
   "execution_count": 77,
   "metadata": {},
   "outputs": [
    {
     "name": "stdout",
     "output_type": "stream",
     "text": [
      "10\n",
      "9\n",
      "8\n",
      "7\n",
      "6\n",
      "5\n",
      "4\n",
      "3\n",
      "2\n",
      "1\n",
      "acabou!\n"
     ]
    }
   ],
   "source": [
    "i = 10\n",
    "\n",
    "while i>0:\n",
    "    print(i)\n",
    "    i = i-1\n",
    "    \n",
    "print('acabou!')"
   ]
  },
  {
   "cell_type": "markdown",
   "metadata": {},
   "source": [
    "O contador **i** foi inicializado com o valor **10** antes do começo do bloco. A cada iteração, o valor de **i** foi atualizado. Caso essa atualização não fosse efetuada, a expressão lógica **i>0** nunca se tornaria falsa e os comandos do bloco seriam executados infinitamente, em uma situação conhecida como *loop infinito*.\n",
    "\n",
    "De modo a evitar a possibilidade de loop infinito, devemos usar o bloco **for**.\n",
    "\n",
    "#### 6.2.2. O bloco for\n",
    "\n",
    "O bloco **for** (*for* significa *para*, em inglês) repete um conjunto de comandos para cada elemento de uma sequência especificada.\n",
    "\n",
    "No exemplo a seguir, os elementos de uma lista são impressos em tela:"
   ]
  },
  {
   "cell_type": "code",
   "execution_count": 78,
   "metadata": {},
   "outputs": [
    {
     "name": "stdout",
     "output_type": "stream",
     "text": [
      "1\n",
      "2\n",
      "3\n",
      "4\n",
      "5\n",
      "acabou!\n"
     ]
    }
   ],
   "source": [
    "sequencia = [1,2,3,4,5]\n",
    "\n",
    "for i in sequencia:\n",
    "    print(i)\n",
    "    \n",
    "print('acabou!')"
   ]
  },
  {
   "cell_type": "markdown",
   "metadata": {},
   "source": [
    "O contador **i** assumiu o valor de cada um dos elementos da lista a cada passo da iteração. Ou seja, para cada elemento da lista **sequencia**, o comando **print** foi executado.\n",
    "\n",
    "A sequência não necessariamente precisa ser uma lista. Podemos usar uma string, por exemplo: "
   ]
  },
  {
   "cell_type": "code",
   "execution_count": 79,
   "metadata": {},
   "outputs": [
    {
     "name": "stdout",
     "output_type": "stream",
     "text": [
      "a\n",
      "i\n",
      "n\n"
     ]
    }
   ],
   "source": [
    "palavra = 'ain'\n",
    "\n",
    "for cada_letrinha in palavra:\n",
    "    print(cada_letrinha)"
   ]
  },
  {
   "cell_type": "markdown",
   "metadata": {},
   "source": [
    "Qualquer estrutura de dados que pode ser usada como sequência de um loop **for** é classificada em Python como uma *estrutura iterável*. As estruturas aqui apresentadas (listas, tuplas, strings e dicionários) são todas iteráveis.\n",
    "\n",
    "Muitas vezes, é conveniente usar a sequência de índices de uma dada estrutura como iterável em um loop for. Para isso, usamos uma combinação das funções **range** e **len**. \n",
    "\n",
    "A função **range** é uma estrutura iterável que não armazena seus elementos na memória, e sim os gera *apenas no momento da iteração*. A sintaxe de definição é semelhante à das listas:\n",
    "\n",
    "**range (start, end, interv)**\n",
    "\n",
    "Os elementos gerados são igualmente espaçados entre **start** (inclusive) e **end** (exclusive), indo de **interv** em **interv**. Exemplo de uso:"
   ]
  },
  {
   "cell_type": "code",
   "execution_count": 80,
   "metadata": {
    "scrolled": true
   },
   "outputs": [
    {
     "name": "stdout",
     "output_type": "stream",
     "text": [
      "range(1, 11, 2)\n",
      "1\n",
      "3\n",
      "5\n",
      "7\n",
      "9\n"
     ]
    }
   ],
   "source": [
    "a = range(1,11,2)\n",
    "\n",
    "print(a)\n",
    "print(a[0])\n",
    "print(a[1])\n",
    "print(a[2])\n",
    "print(a[3])\n",
    "print(a[4])"
   ]
  },
  {
   "cell_type": "markdown",
   "metadata": {},
   "source": [
    "\n",
    "A função **len** retorna o tamanho, ou comprimento (*length*) de dada estrutura.\n",
    "\n",
    "No seguinte exemplo, calculamos o seguinte somatório: $\\displaystyle\\sum_{i=1}^{5} i^2$, usando a combinação das funções **range** e **len**:"
   ]
  },
  {
   "cell_type": "code",
   "execution_count": 81,
   "metadata": {},
   "outputs": [
    {
     "name": "stdout",
     "output_type": "stream",
     "text": [
      "55\n"
     ]
    }
   ],
   "source": [
    "L = [1,2,3,4,5]\n",
    "soma = 0\n",
    "\n",
    "for i in range(len(L)):\n",
    "    soma = soma+ L[i]**2\n",
    "\n",
    "print(soma)"
   ]
  },
  {
   "cell_type": "markdown",
   "metadata": {},
   "source": [
    "No exemplo acima, **len(L)** fornece o comprimento da lista **L** (no caso, 5). Daí, **range(len(L))**, equivalente a **range(5)**, fornece os elementos 0,1,2,3 e 4 para iteração do contador **i**. Esse contador, por sua vez, é usado como índice da lista **L** no cálculo do somatório. O uso da função **range(len(L))** garante que o iterável do loop corresponda a uma lista com os índices de todos os elementos de **L**.\n",
    "\n",
    "Muito importante no uso das loops **for** e **while** são as palavras-chave **break** e **continue**. A palavra-chave **break** interrompe a execução do loop, enquanto **continue** faz com que se pule para o próximo passo da iteração. Observe os seguintes exemplos:"
   ]
  },
  {
   "cell_type": "code",
   "execution_count": 82,
   "metadata": {},
   "outputs": [
    {
     "name": "stdout",
     "output_type": "stream",
     "text": [
      "No gosto d letr . No gosto que imprimm  letr "
     ]
    }
   ],
   "source": [
    "str = 'Nao gosto da letra a. Nao gosto que imprimam a letra a'\n",
    "\n",
    "for s in str:\n",
    "    if s == 'a':\n",
    "        continue\n",
    "    print(s,end='')"
   ]
  },
  {
   "cell_type": "code",
   "execution_count": 83,
   "metadata": {},
   "outputs": [
    {
     "name": "stdout",
     "output_type": "stream",
     "text": [
      "N"
     ]
    }
   ],
   "source": [
    "str = 'Nao gosto da letra a. Nao gosto que imprimam a letra a'\n",
    "\n",
    "for s in str:\n",
    "    if s == 'a':\n",
    "        break\n",
    "    print(s,end='')"
   ]
  },
  {
   "cell_type": "markdown",
   "metadata": {},
   "source": [
    "O argumento **end=''** fornecido à função **print** faz com que todos os caracteres sejam impressos em uma só linha."
   ]
  },
  {
   "cell_type": "markdown",
   "metadata": {},
   "source": [
    "#### *Mão na massa! *\n",
    "\n",
    "* Calcule a soma $\\displaystyle\\sum_{i=1}^{20} \\displaystyle\\sum_{j=3}^{9} \\sin(i+j)$."
   ]
  },
  {
   "cell_type": "code",
   "execution_count": null,
   "metadata": {},
   "outputs": [],
   "source": []
  },
  {
   "cell_type": "markdown",
   "metadata": {},
   "source": [
    "* Descubra o número de termos na soma 1+2+3+... necessários para se atingir um milhão."
   ]
  },
  {
   "cell_type": "code",
   "execution_count": null,
   "metadata": {},
   "outputs": [],
   "source": []
  },
  {
   "cell_type": "markdown",
   "metadata": {},
   "source": [
    "### 6.3.  Compreensão de listas\n",
    "\n",
    "A [compreensão de listas](https://pt.wikipedia.org/wiki/Compreens%C3%A3o_de_lista) é uma forma de definir listas usando diretamente estruturas de controle, em um único comando. Alguns exemplos:"
   ]
  },
  {
   "cell_type": "code",
   "execution_count": 84,
   "metadata": {},
   "outputs": [
    {
     "data": {
      "text/plain": [
       "[0, 1, 2, 3, 4, 5, 6, 7, 8, 9]"
      ]
     },
     "execution_count": 84,
     "metadata": {},
     "output_type": "execute_result"
    }
   ],
   "source": [
    "a = [i for i in range(10)]\n",
    "a"
   ]
  },
  {
   "cell_type": "code",
   "execution_count": 85,
   "metadata": {},
   "outputs": [
    {
     "data": {
      "text/plain": [
       "[1, 3, 5, 7, 9]"
      ]
     },
     "execution_count": 85,
     "metadata": {},
     "output_type": "execute_result"
    }
   ],
   "source": [
    "b = [i for i in range(10) if i%2!=0]\n",
    "b"
   ]
  },
  {
   "cell_type": "markdown",
   "metadata": {},
   "source": [
    "Para definir uma lista dessa maneira, deve-se usar um colchete contendo um símbolo para o elemento genérico da lista (nos casos acima, o símbolo **i**), seguido de um loop **for** que irá usar esse símbolo para gerar os elementos propriamente ditos. Pode-se adicionar ainda um **if** para condicionar a geração dos elementos a alguma expressão lógica, como no segundo exemplo acima."
   ]
  },
  {
   "cell_type": "markdown",
   "metadata": {},
   "source": [
    "#### *Mão na massa! *\n",
    "\n",
    "* Utilize uma compreensão de lista para gerar em uma linha uma lista contendo os números até 1000 que contenham o algarismo 3. Talvez você se interesse pela palavra-chave **in** e pela função **str( )** do Python."
   ]
  },
  {
   "cell_type": "code",
   "execution_count": null,
   "metadata": {},
   "outputs": [],
   "source": []
  },
  {
   "cell_type": "markdown",
   "metadata": {},
   "source": [
    "Gostou de resolver o exercício acima? Talvez você se divirta também tentando resolver [esses](https://www.reddit.com/r/learnpython/comments/4d2yl7/i_need_list_comprehension_exercises_to_drill/d1ndggs) :)"
   ]
  },
  {
   "cell_type": "markdown",
   "metadata": {},
   "source": [
    "## 7. Definindo funções\n",
    "\n",
    "Na Seção 2 deste documento, afirmamos que *funções* são objetos que aceitam argumentos (entrada da função), processam esses argumentos e retornam valores (saída da função). \n",
    "\n",
    "Neste ponto do nosso estudo, podemos ser mais precisos e afirmar que funções na verdade são *blocos de código independentes criados para cumprir uma tarefa específica*. Essa tarefa pode ser calcular o cosseno de um número, imprimir uma string na tela, plotar um gráfico, etc.\n",
    "\n",
    "Para definir nossas próprias funções no Python, fazemos uso da palavra-chave **def**: "
   ]
  },
  {
   "cell_type": "code",
   "execution_count": 86,
   "metadata": {},
   "outputs": [],
   "source": [
    "def somar2 (x):\n",
    "    y = x+2\n",
    "    return y"
   ]
  },
  {
   "cell_type": "markdown",
   "metadata": {},
   "source": [
    "Após a palavra-chave **def**, devemos escrever o nome da função (no caso acima, **somar2**). Entre parênteses, após o nome, colocamos o(s) nome(s) do(s) objeto(s) que representa(m) o(s) input(s) do usuário (no caso acima, apenas um input, **x**). A função deve retornar um valor de saída ao usuário, especificado pelo comando **return**.\n",
    "\n",
    "A função **somar2** acima é bem simples: aceita um argumento **x** e retorna o valor **x+2** ao usuário. Para utilizá-la, basta digitar seu nome seguido do argumento de entrada entre parênteses:"
   ]
  },
  {
   "cell_type": "code",
   "execution_count": 87,
   "metadata": {},
   "outputs": [
    {
     "data": {
      "text/plain": [
       "6"
      ]
     },
     "execution_count": 87,
     "metadata": {},
     "output_type": "execute_result"
    }
   ],
   "source": [
    "somar2(4)"
   ]
  },
  {
   "cell_type": "markdown",
   "metadata": {},
   "source": [
    "Podemos atribuir o valor retornado à função a um objeto qualquer:"
   ]
  },
  {
   "cell_type": "code",
   "execution_count": 88,
   "metadata": {},
   "outputs": [
    {
     "name": "stdout",
     "output_type": "stream",
     "text": [
      "22\n"
     ]
    }
   ],
   "source": [
    "k = 20\n",
    "z = somar2(k)\n",
    "print(z)"
   ]
  },
  {
   "cell_type": "markdown",
   "metadata": {},
   "source": [
    "É importante destacar que cada função tem seu espaço de nomes próprio, independente do espaço de nomes do resto do programa. Isso quer dizer que os nomes **x** e **y**, definidos dentro da função **somar2**, não estão definidos fora da função. Da mesma maneira, os nomes definidos fora da função (**k** e **z** acima) não estão definidos dentro da função. Podemos inclusive associar, fora da função, os nomes **x** e **y** a outros objetos e esses nomes não terão relação nenhuma com os nomes **x** e **y** utilizados dentro da função:"
   ]
  },
  {
   "cell_type": "code",
   "execution_count": 89,
   "metadata": {},
   "outputs": [
    {
     "name": "stdout",
     "output_type": "stream",
     "text": [
      "[[2. 2. 2.]\n",
      " [2. 2. 2.]\n",
      " [2. 2. 2.]\n",
      " [2. 2. 2.]]\n"
     ]
    }
   ],
   "source": [
    "y = np.zeros((4,3))\n",
    "x = somar2(y)\n",
    "print(x)"
   ]
  },
  {
   "cell_type": "markdown",
   "metadata": {},
   "source": [
    "No caso acima, **y** é usado para se referir ao objeto de entrada e **x** ao objeto de saída, enquanto dentro da função **y** se refere ao objeto de saída e **x** ao objeto de entrada.\n",
    "\n",
    "Também é importante destacar que os nomes dados ao argumento de entrada dentro e fora da função se referem ao mesmo objeto. Isso significa que, se fornecermos um objeto mutável como argumento de uma função e a função modificar de alguma forma esse objeto, essa mudança se refletirá também fora da função. Observe o seguinte exemplo:"
   ]
  },
  {
   "cell_type": "code",
   "execution_count": 90,
   "metadata": {},
   "outputs": [
    {
     "name": "stdout",
     "output_type": "stream",
     "text": [
      "0.0\n",
      "[[1. 1.]\n",
      " [1. 1.]]\n"
     ]
    }
   ],
   "source": [
    "def funcao_bolada (arg1, arg2):\n",
    "    \n",
    "    arg1 = 1.0\n",
    "    \n",
    "    for i in range(len(arg2)):\n",
    "        arg2[i] = 1.0\n",
    "        \n",
    "arg1 = 0.0\n",
    "arg2 = np.zeros((2,2))\n",
    "\n",
    "funcao_bolada(arg1, arg2)\n",
    "\n",
    "print(arg1)\n",
    "print(arg2)"
   ]
  },
  {
   "cell_type": "markdown",
   "metadata": {},
   "source": [
    "A modificação em **arg1** não se refletiu fora da função porque **arg1** é do tipo **float**, ou seja, é um objeto imutável. Já a modificação em **arg2** se refletiu fora da função porque **arg2** é uma lista, ou seja, um objeto mutável.\n",
    "\n",
    "Esse exemplo ilustrou o fato de que as funções não necessariamente retornam valores de saída. Também é possível que uma função não aceite argumentos de entrada.\n",
    "\n",
    "Esse último exemplo ilustrou também um dos métodos usados para se fornecer mais de um argumento a uma função: pela ordem em que eles são escritos na definição. No código acima, é claro que o primeiro argumento fornecido deve ser um **float** e o segundo argumento deve ser uma lista.\n",
    "\n",
    "No entanto, existe outra maneira de se fornecer múltiplos argumentos às funções no Python: por meio de *palavras-chave*. \n",
    "\n",
    "No exemplo a seguir, ilustramos o uso de palavras-chave nos argumentos por meio da implementação da seguinte função matemática:\n",
    "\n",
    "$$ f(t; A, a, \\omega) = A e^{-at} \\cos(wt)$$"
   ]
  },
  {
   "cell_type": "code",
   "execution_count": 91,
   "metadata": {},
   "outputs": [],
   "source": [
    "def f(t, A=1, a=1, omega=2*np.pi):\n",
    "    return A*np.exp(-a*t)*np.cos(omega*t)"
   ]
  },
  {
   "cell_type": "markdown",
   "metadata": {},
   "source": [
    "Na função acima, o valor de $t$ deve invariavelmente ser fornecido pelo usuário. Os valores dos parâmetros $A$, $a$ e $\\omega$ são opcionais. Caso não sejam fornecidos, os valores especificados na definição acima (no caso, 1,1 e $2\\pi$) serão utilizados. Caso sejam fornecidos, devem ser escritos na forma **arg = ...**, em qualquer ordem. Analise o exemplo:"
   ]
  },
  {
   "cell_type": "code",
   "execution_count": 92,
   "metadata": {},
   "outputs": [
    {
     "name": "stdout",
     "output_type": "stream",
     "text": [
      "0.36787944117144233 0.1353352832366127 1.4715177646857693\n"
     ]
    }
   ],
   "source": [
    "result1 = f(1)\n",
    "result2 = f(1, a=2)\n",
    "result3 = f(1, omega=4*np.pi, A=4)\n",
    "\n",
    "print(result1, result2, result3)"
   ]
  },
  {
   "cell_type": "markdown",
   "metadata": {},
   "source": [
    "O uso de palavras-chave nos argumentos é um recurso que flexibiliza bastante o uso de funções e é um dos grandes charmes da linguagem Python."
   ]
  },
  {
   "cell_type": "markdown",
   "metadata": {},
   "source": [
    "Um último comentário sobre a utilidade geral das funções. Funções são úteis porque proporcionam modularidade ao código. De maneira geral, *modularidade* é uma medida do grau em que os diversos componentes de um sistema podem ser separados e recombinados. Um código modular é um código composto por diversas partes autocontidas que se integram de maneira harmoniosa. Em Python, a melhor maneira de criar essa divisão harmoniosa entre as diversas seções de um programa é por meio da definição de funções.\n",
    "\n",
    "A modularidade proporciona diversas vantagens ao programador, dentre as quais destacamos:\n",
    "\n",
    "* o aumento da clareza e redução da complexidade do programa, já que ele passa a ser composto por blocos de código independentes e reutilizáveis;\n",
    "* o isolamento de operações complicadas;\n",
    "* a prevenção de códigos duplicados;\n",
    "* a limitação de mudanças em seções específicas do programa, o que torna mais prática a realização de testes e o *debug* (busca e reparação de erros no código)."
   ]
  },
  {
   "cell_type": "markdown",
   "metadata": {},
   "source": [
    "#### *Mão na massa! *\n",
    "\n",
    "* Escreva e teste uma função que aceite três matrizes e retorne a soma de suas transpostas."
   ]
  },
  {
   "cell_type": "code",
   "execution_count": null,
   "metadata": {},
   "outputs": [],
   "source": []
  },
  {
   "cell_type": "markdown",
   "metadata": {},
   "source": [
    "* Implemente a seguinte função matemática como uma função em Python:\n",
    "\n",
    "$$ y(t) = \n",
    " \\begin{cases}\n",
    "    -\\alpha t^2+\\beta,& t\\geq 0\\\\\n",
    "    \\alpha t^2+\\beta,  & t<0\n",
    "\\end{cases}\n",
    "$$\n",
    "\n",
    "Sua função deve aceitar um vetor $t$ e dois escalares $\\alpha$ e $\\beta$ e retornar um vetor $y$ com os valores $y(t)$. \n",
    "\n",
    "Plote $y(t)$ no intervalo $t=[-9,9]$ para $\\alpha = 3$ e $\\beta = 5$."
   ]
  },
  {
   "cell_type": "code",
   "execution_count": null,
   "metadata": {},
   "outputs": [],
   "source": []
  },
  {
   "cell_type": "markdown",
   "metadata": {},
   "source": [
    "## 8. A Biblioteca [pandas](https://pandas.pydata.org/)\n",
    "\n",
    "A biblioteca [pandas](https://pandas.pydata.org/) contém recursos especiais para análise e manipulação de dados (em particular, tabelas numéricas e séries temporais) e seu uso é padrão em aplicações de ciência de dados no Python. A biblioteca faz uso de vários recursos do [NumPy](http://www.numpy.org/) e [Matplotlib](https://matplotlib.org/), já apresentados anteriormente. Para importá-la, escrevemos:"
   ]
  },
  {
   "cell_type": "code",
   "execution_count": 93,
   "metadata": {},
   "outputs": [],
   "source": [
    "import pandas as pd"
   ]
  },
  {
   "cell_type": "markdown",
   "metadata": {},
   "source": [
    "### 8.1 - Séries\n",
    "\n",
    "Uma [série](https://pandas.pydata.org/pandas-docs/stable/reference/api/pandas.Series.html) no [pandas](https://pandas.pydata.org/) é composta por:\n",
    "\n",
    "* *valores*: uma array unidimensional, contendo uma sequência de valores numéricos de interesse;\n",
    "* *índices*: uma outra array unidimensional, com legendas para estes valores.\n",
    "\n",
    "Definimos séries fornecendo uma lista (ou outra estrutura como tupla, array [NumPy](http://www.numpy.org/), ...) com os valores:"
   ]
  },
  {
   "cell_type": "code",
   "execution_count": 94,
   "metadata": {
    "ExecuteTime": {
     "end_time": "2018-03-21T04:03:54.688375Z",
     "start_time": "2018-03-21T04:03:54.677951Z"
    }
   },
   "outputs": [
    {
     "name": "stdout",
     "output_type": "stream",
     "text": [
      "0    5\n",
      "1    6\n",
      "2    8\n",
      "3    9\n",
      "dtype: int64\n"
     ]
    }
   ],
   "source": [
    "obj1 = pd.Series([5,6,8,9])\n",
    "print(obj1)"
   ]
  },
  {
   "cell_type": "markdown",
   "metadata": {},
   "source": [
    "Na visualização acima, os índices estão à esquerda e os valores, à direita. \n",
    "\n",
    "Perceba que os índices, se não especificados na definição, por *default* são inteiros começando do zero.\n",
    "\n",
    "É possível definir séries com índices de outra natureza:"
   ]
  },
  {
   "cell_type": "code",
   "execution_count": 95,
   "metadata": {
    "ExecuteTime": {
     "end_time": "2018-03-21T04:03:54.703365Z",
     "start_time": "2018-03-21T04:03:54.691574Z"
    }
   },
   "outputs": [
    {
     "name": "stdout",
     "output_type": "stream",
     "text": [
      "d    4\n",
      "b    7\n",
      "a   -5\n",
      "c    3\n",
      "dtype: int64\n"
     ]
    }
   ],
   "source": [
    "obj2 = pd.Series([4, 7, -5, 3], index=['d', 'b', 'a', 'c'])\n",
    "print(obj2)"
   ]
  },
  {
   "cell_type": "markdown",
   "metadata": {},
   "source": [
    "É possível extrair apenas os valores ou apenas os índices das séries:"
   ]
  },
  {
   "cell_type": "code",
   "execution_count": 96,
   "metadata": {
    "ExecuteTime": {
     "end_time": "2018-03-21T04:03:54.722533Z",
     "start_time": "2018-03-21T04:03:54.706804Z"
    }
   },
   "outputs": [
    {
     "name": "stdout",
     "output_type": "stream",
     "text": [
      "[5 6 8 9]\n",
      "RangeIndex(start=0, stop=4, step=1)\n"
     ]
    }
   ],
   "source": [
    "print(obj1.values)\n",
    "print(obj1.index)"
   ]
  },
  {
   "cell_type": "code",
   "execution_count": 97,
   "metadata": {
    "ExecuteTime": {
     "end_time": "2018-03-21T04:03:54.734146Z",
     "start_time": "2018-03-21T04:03:54.725567Z"
    },
    "scrolled": true
   },
   "outputs": [
    {
     "name": "stdout",
     "output_type": "stream",
     "text": [
      "[ 4  7 -5  3]\n",
      "Index(['d', 'b', 'a', 'c'], dtype='object')\n"
     ]
    }
   ],
   "source": [
    "print(obj2.values)\n",
    "print(obj2.index)"
   ]
  },
  {
   "cell_type": "markdown",
   "metadata": {},
   "source": [
    "Pode-se acessar um elemento individual por meio de seu índice:"
   ]
  },
  {
   "cell_type": "code",
   "execution_count": 98,
   "metadata": {
    "ExecuteTime": {
     "end_time": "2018-03-21T04:03:54.751983Z",
     "start_time": "2018-03-21T04:03:54.737132Z"
    }
   },
   "outputs": [
    {
     "data": {
      "text/plain": [
       "7"
      ]
     },
     "execution_count": 98,
     "metadata": {},
     "output_type": "execute_result"
    }
   ],
   "source": [
    "obj2['b']"
   ]
  },
  {
   "cell_type": "markdown",
   "metadata": {},
   "source": [
    "A mesma sintaxe pode ser usada para adicionar um novo elemento à série:"
   ]
  },
  {
   "cell_type": "code",
   "execution_count": 99,
   "metadata": {},
   "outputs": [
    {
     "data": {
      "text/plain": [
       "d    4\n",
       "b    7\n",
       "a   -5\n",
       "c    3\n",
       "e    9\n",
       "dtype: int64"
      ]
     },
     "execution_count": 99,
     "metadata": {},
     "output_type": "execute_result"
    }
   ],
   "source": [
    "obj2['e'] = 9\n",
    "obj2"
   ]
  },
  {
   "cell_type": "markdown",
   "metadata": {},
   "source": [
    "Pode-se criar séries a partir de dicionários:"
   ]
  },
  {
   "cell_type": "code",
   "execution_count": 100,
   "metadata": {
    "ExecuteTime": {
     "end_time": "2018-03-21T04:03:54.768346Z",
     "start_time": "2018-03-21T04:03:54.755251Z"
    }
   },
   "outputs": [
    {
     "name": "stdout",
     "output_type": "stream",
     "text": [
      "Rio de Janeiro    35000\n",
      "São Paulo         71000\n",
      "Minas Gerais      16000\n",
      "Espírito Santo     5000\n",
      "dtype: int64\n"
     ]
    }
   ],
   "source": [
    "sdata = {'Rio de Janeiro': 35000, 'São Paulo': 71000, 'Minas Gerais': 16000, 'Espírito Santo': 5000}\n",
    "obj3 = pd.Series(sdata)\n",
    "print(obj3)"
   ]
  },
  {
   "cell_type": "markdown",
   "metadata": {
    "ExecuteTime": {
     "end_time": "2018-03-20T21:44:51.648546Z",
     "start_time": "2018-03-20T21:44:51.642904Z"
    }
   },
   "source": [
    "Perceba que os índices são criados a partir das chaves dos dicionários e estão ordenados alfabeticamente. É possível ordená-los de outra maneira:"
   ]
  },
  {
   "cell_type": "code",
   "execution_count": 101,
   "metadata": {
    "ExecuteTime": {
     "end_time": "2018-03-21T04:03:54.781055Z",
     "start_time": "2018-03-21T04:03:54.771183Z"
    }
   },
   "outputs": [
    {
     "name": "stdout",
     "output_type": "stream",
     "text": [
      "São Paulo            71000.0\n",
      "Ceará                    NaN\n",
      "Rio de Janeiro       35000.0\n",
      "Rio Grande do Sul        NaN\n",
      "dtype: float64\n"
     ]
    }
   ],
   "source": [
    "states = ['São Paulo', 'Ceará', 'Rio de Janeiro', 'Rio Grande do Sul']\n",
    "obj4 = pd.Series(sdata, index=states)\n",
    "print(obj4)"
   ]
  },
  {
   "cell_type": "markdown",
   "metadata": {},
   "source": [
    "Aos estados que não constam do dicionário *sdata* são atribuídos valores NaN (*Not a Number*), o que indica a existência de *dados faltantes* na série. Dados faltantes constituem um problema sério e recorrente em qualquer análise de dados.\n",
    "\n",
    "É possível realizar operações matemáticas com as séries:"
   ]
  },
  {
   "cell_type": "code",
   "execution_count": 102,
   "metadata": {
    "ExecuteTime": {
     "end_time": "2018-03-21T04:03:54.801170Z",
     "start_time": "2018-03-21T04:03:54.787193Z"
    }
   },
   "outputs": [
    {
     "data": {
      "text/plain": [
       "Ceará                     NaN\n",
       "Espírito Santo            NaN\n",
       "Minas Gerais              NaN\n",
       "Rio Grande do Sul         NaN\n",
       "Rio de Janeiro        70000.0\n",
       "São Paulo            142000.0\n",
       "dtype: float64"
      ]
     },
     "execution_count": 102,
     "metadata": {},
     "output_type": "execute_result"
    }
   ],
   "source": [
    "obj3+obj4"
   ]
  },
  {
   "cell_type": "markdown",
   "metadata": {},
   "source": [
    "#### *Mão na massa! *\n",
    "\n",
    "* Adicione três novos estados à série **obj3**."
   ]
  },
  {
   "cell_type": "code",
   "execution_count": null,
   "metadata": {},
   "outputs": [],
   "source": []
  },
  {
   "cell_type": "markdown",
   "metadata": {},
   "source": [
    "### 8.2 - DataFrames"
   ]
  },
  {
   "cell_type": "markdown",
   "metadata": {},
   "source": [
    "Um [DataFrame](https://pandas.pydata.org/pandas-docs/stable/reference/api/pandas.DataFrame.html) é uma tabela de dados composta por um conjunto ordenado de colunas, cada qual de um diferente tipo (numérico, string, boleano...)\n",
    "\n",
    "Há dois conjuntos de índices, um para as linhas e outro para as colunas. Podemos entender um DataFrame como um dicionário de séries que compartilham os mesmos índices.\n",
    "\n",
    "Abaixo, construímos um DataFrame a partir de um dicionário. Este DataFrame contém notas de provas de alunos hipotéticos."
   ]
  },
  {
   "cell_type": "code",
   "execution_count": 103,
   "metadata": {
    "ExecuteTime": {
     "end_time": "2018-03-21T04:03:54.838794Z",
     "start_time": "2018-03-21T04:03:54.805256Z"
    }
   },
   "outputs": [
    {
     "data": {
      "text/html": [
       "<div>\n",
       "<style scoped>\n",
       "    .dataframe tbody tr th:only-of-type {\n",
       "        vertical-align: middle;\n",
       "    }\n",
       "\n",
       "    .dataframe tbody tr th {\n",
       "        vertical-align: top;\n",
       "    }\n",
       "\n",
       "    .dataframe thead th {\n",
       "        text-align: right;\n",
       "    }\n",
       "</style>\n",
       "<table border=\"1\" class=\"dataframe\">\n",
       "  <thead>\n",
       "    <tr style=\"text-align: right;\">\n",
       "      <th></th>\n",
       "      <th>P1</th>\n",
       "      <th>P2</th>\n",
       "    </tr>\n",
       "  </thead>\n",
       "  <tbody>\n",
       "    <tr>\n",
       "      <th>Tamefreu Chopin</th>\n",
       "      <td>8.0</td>\n",
       "      <td>2.0</td>\n",
       "    </tr>\n",
       "    <tr>\n",
       "      <th>Gumercindo Carrara</th>\n",
       "      <td>5.5</td>\n",
       "      <td>6.0</td>\n",
       "    </tr>\n",
       "    <tr>\n",
       "      <th>Acheropita Pacífico</th>\n",
       "      <td>4.3</td>\n",
       "      <td>7.4</td>\n",
       "    </tr>\n",
       "    <tr>\n",
       "      <th>Afrânia Salgueiro</th>\n",
       "      <td>10.0</td>\n",
       "      <td>10.0</td>\n",
       "    </tr>\n",
       "  </tbody>\n",
       "</table>\n",
       "</div>"
      ],
      "text/plain": [
       "                       P1    P2\n",
       "Tamefreu Chopin       8.0   2.0\n",
       "Gumercindo Carrara    5.5   6.0\n",
       "Acheropita Pacífico   4.3   7.4\n",
       "Afrânia Salgueiro    10.0  10.0"
      ]
     },
     "execution_count": 103,
     "metadata": {},
     "output_type": "execute_result"
    }
   ],
   "source": [
    "nomes =['Tamefreu Chopin','Gumercindo Carrara','Acheropita Pacífico','Afrânia Salgueiro']\n",
    "\n",
    "dados = {'P1': [8.0, 5.5, 4.3, 10.0],\n",
    "         'P2': [2.0, 6.0, 7.4, 10.0]}\n",
    "\n",
    "df1 = pd.DataFrame(dados, index = nomes)\n",
    "df1"
   ]
  },
  {
   "cell_type": "markdown",
   "metadata": {},
   "source": [
    "Caso não especificássemos os índices com a lista *nomes*, estes seriam uma sequência de inteiros começando do zero.\n",
    "\n",
    "Para reorganizar a tabela, de acordo com os índices:"
   ]
  },
  {
   "cell_type": "code",
   "execution_count": 104,
   "metadata": {
    "ExecuteTime": {
     "end_time": "2018-03-21T04:03:54.879973Z",
     "start_time": "2018-03-21T04:03:54.851995Z"
    }
   },
   "outputs": [
    {
     "data": {
      "text/html": [
       "<div>\n",
       "<style scoped>\n",
       "    .dataframe tbody tr th:only-of-type {\n",
       "        vertical-align: middle;\n",
       "    }\n",
       "\n",
       "    .dataframe tbody tr th {\n",
       "        vertical-align: top;\n",
       "    }\n",
       "\n",
       "    .dataframe thead th {\n",
       "        text-align: right;\n",
       "    }\n",
       "</style>\n",
       "<table border=\"1\" class=\"dataframe\">\n",
       "  <thead>\n",
       "    <tr style=\"text-align: right;\">\n",
       "      <th></th>\n",
       "      <th>P1</th>\n",
       "      <th>P2</th>\n",
       "    </tr>\n",
       "  </thead>\n",
       "  <tbody>\n",
       "    <tr>\n",
       "      <th>Acheropita Pacífico</th>\n",
       "      <td>4.3</td>\n",
       "      <td>7.4</td>\n",
       "    </tr>\n",
       "    <tr>\n",
       "      <th>Afrânia Salgueiro</th>\n",
       "      <td>10.0</td>\n",
       "      <td>10.0</td>\n",
       "    </tr>\n",
       "    <tr>\n",
       "      <th>Gumercindo Carrara</th>\n",
       "      <td>5.5</td>\n",
       "      <td>6.0</td>\n",
       "    </tr>\n",
       "    <tr>\n",
       "      <th>Tamefreu Chopin</th>\n",
       "      <td>8.0</td>\n",
       "      <td>2.0</td>\n",
       "    </tr>\n",
       "  </tbody>\n",
       "</table>\n",
       "</div>"
      ],
      "text/plain": [
       "                       P1    P2\n",
       "Acheropita Pacífico   4.3   7.4\n",
       "Afrânia Salgueiro    10.0  10.0\n",
       "Gumercindo Carrara    5.5   6.0\n",
       "Tamefreu Chopin       8.0   2.0"
      ]
     },
     "execution_count": 104,
     "metadata": {},
     "output_type": "execute_result"
    }
   ],
   "source": [
    "df1 = df1.sort_index()\n",
    "df1"
   ]
  },
  {
   "cell_type": "markdown",
   "metadata": {},
   "source": [
    "No caso, como os índices são strings, o critério de organização foi o alfabético.\n",
    "\n",
    "Abaixo, algumas maneiras de extrair seções da tabela:"
   ]
  },
  {
   "cell_type": "code",
   "execution_count": 105,
   "metadata": {
    "ExecuteTime": {
     "end_time": "2018-03-21T04:03:54.893011Z",
     "start_time": "2018-03-21T04:03:54.884196Z"
    }
   },
   "outputs": [
    {
     "data": {
      "text/plain": [
       "Acheropita Pacífico     4.3\n",
       "Afrânia Salgueiro      10.0\n",
       "Gumercindo Carrara      5.5\n",
       "Tamefreu Chopin         8.0\n",
       "Name: P1, dtype: float64"
      ]
     },
     "execution_count": 105,
     "metadata": {},
     "output_type": "execute_result"
    }
   ],
   "source": [
    "df1['P1']"
   ]
  },
  {
   "cell_type": "code",
   "execution_count": 106,
   "metadata": {
    "ExecuteTime": {
     "end_time": "2018-03-21T04:03:54.909083Z",
     "start_time": "2018-03-21T04:03:54.896083Z"
    }
   },
   "outputs": [
    {
     "data": {
      "text/plain": [
       "array([ 7.4, 10. ,  6. ,  2. ])"
      ]
     },
     "execution_count": 106,
     "metadata": {},
     "output_type": "execute_result"
    }
   ],
   "source": [
    "df1['P2'].values"
   ]
  },
  {
   "cell_type": "code",
   "execution_count": 107,
   "metadata": {
    "ExecuteTime": {
     "end_time": "2018-03-21T04:03:54.924520Z",
     "start_time": "2018-03-21T04:03:54.914005Z"
    }
   },
   "outputs": [
    {
     "data": {
      "text/plain": [
       "P1    4.3\n",
       "P2    7.4\n",
       "Name: Acheropita Pacífico, dtype: float64"
      ]
     },
     "execution_count": 107,
     "metadata": {},
     "output_type": "execute_result"
    }
   ],
   "source": [
    "df1.loc['Acheropita Pacífico']"
   ]
  },
  {
   "cell_type": "code",
   "execution_count": 108,
   "metadata": {
    "ExecuteTime": {
     "end_time": "2018-03-21T04:03:54.935527Z",
     "start_time": "2018-03-21T04:03:54.927065Z"
    }
   },
   "outputs": [
    {
     "data": {
      "text/plain": [
       "5.5"
      ]
     },
     "execution_count": 108,
     "metadata": {},
     "output_type": "execute_result"
    }
   ],
   "source": [
    "df1.loc['Gumercindo Carrara','P1']"
   ]
  },
  {
   "cell_type": "markdown",
   "metadata": {},
   "source": [
    "Suponhamos que desejemos adicionar uma coluna com as média das notas das provas. Nada mais fácil:"
   ]
  },
  {
   "cell_type": "code",
   "execution_count": 109,
   "metadata": {
    "ExecuteTime": {
     "end_time": "2018-03-21T04:03:54.959977Z",
     "start_time": "2018-03-21T04:03:54.938673Z"
    }
   },
   "outputs": [
    {
     "data": {
      "text/html": [
       "<div>\n",
       "<style scoped>\n",
       "    .dataframe tbody tr th:only-of-type {\n",
       "        vertical-align: middle;\n",
       "    }\n",
       "\n",
       "    .dataframe tbody tr th {\n",
       "        vertical-align: top;\n",
       "    }\n",
       "\n",
       "    .dataframe thead th {\n",
       "        text-align: right;\n",
       "    }\n",
       "</style>\n",
       "<table border=\"1\" class=\"dataframe\">\n",
       "  <thead>\n",
       "    <tr style=\"text-align: right;\">\n",
       "      <th></th>\n",
       "      <th>P1</th>\n",
       "      <th>P2</th>\n",
       "      <th>Média</th>\n",
       "    </tr>\n",
       "  </thead>\n",
       "  <tbody>\n",
       "    <tr>\n",
       "      <th>Acheropita Pacífico</th>\n",
       "      <td>4.3</td>\n",
       "      <td>7.4</td>\n",
       "      <td>5.85</td>\n",
       "    </tr>\n",
       "    <tr>\n",
       "      <th>Afrânia Salgueiro</th>\n",
       "      <td>10.0</td>\n",
       "      <td>10.0</td>\n",
       "      <td>10.00</td>\n",
       "    </tr>\n",
       "    <tr>\n",
       "      <th>Gumercindo Carrara</th>\n",
       "      <td>5.5</td>\n",
       "      <td>6.0</td>\n",
       "      <td>5.75</td>\n",
       "    </tr>\n",
       "    <tr>\n",
       "      <th>Tamefreu Chopin</th>\n",
       "      <td>8.0</td>\n",
       "      <td>2.0</td>\n",
       "      <td>5.00</td>\n",
       "    </tr>\n",
       "  </tbody>\n",
       "</table>\n",
       "</div>"
      ],
      "text/plain": [
       "                       P1    P2  Média\n",
       "Acheropita Pacífico   4.3   7.4   5.85\n",
       "Afrânia Salgueiro    10.0  10.0  10.00\n",
       "Gumercindo Carrara    5.5   6.0   5.75\n",
       "Tamefreu Chopin       8.0   2.0   5.00"
      ]
     },
     "execution_count": 109,
     "metadata": {},
     "output_type": "execute_result"
    }
   ],
   "source": [
    "df1['Média'] = 0.5*(df1['P1']+df1['P2'])\n",
    "df1"
   ]
  },
  {
   "cell_type": "markdown",
   "metadata": {},
   "source": [
    "Suponhamos também que os alunos tenham feito a prova final e deseja-se adicionar essas novas notas e a situação final (aprovado ou reprovado):"
   ]
  },
  {
   "cell_type": "code",
   "execution_count": 110,
   "metadata": {
    "ExecuteTime": {
     "end_time": "2018-03-21T04:03:55.006909Z",
     "start_time": "2018-03-21T04:03:54.962999Z"
    }
   },
   "outputs": [
    {
     "data": {
      "text/html": [
       "<div>\n",
       "<style scoped>\n",
       "    .dataframe tbody tr th:only-of-type {\n",
       "        vertical-align: middle;\n",
       "    }\n",
       "\n",
       "    .dataframe tbody tr th {\n",
       "        vertical-align: top;\n",
       "    }\n",
       "\n",
       "    .dataframe thead th {\n",
       "        text-align: right;\n",
       "    }\n",
       "</style>\n",
       "<table border=\"1\" class=\"dataframe\">\n",
       "  <thead>\n",
       "    <tr style=\"text-align: right;\">\n",
       "      <th></th>\n",
       "      <th>P1</th>\n",
       "      <th>P2</th>\n",
       "      <th>Média</th>\n",
       "      <th>PF</th>\n",
       "      <th>Média Final</th>\n",
       "      <th>Situação</th>\n",
       "    </tr>\n",
       "  </thead>\n",
       "  <tbody>\n",
       "    <tr>\n",
       "      <th>Acheropita Pacífico</th>\n",
       "      <td>4.3</td>\n",
       "      <td>7.4</td>\n",
       "      <td>5.85</td>\n",
       "      <td>6.0</td>\n",
       "      <td>5.925</td>\n",
       "      <td>Aprovado(a)</td>\n",
       "    </tr>\n",
       "    <tr>\n",
       "      <th>Afrânia Salgueiro</th>\n",
       "      <td>10.0</td>\n",
       "      <td>10.0</td>\n",
       "      <td>10.00</td>\n",
       "      <td>NaN</td>\n",
       "      <td>10.000</td>\n",
       "      <td>Aprovado(a)</td>\n",
       "    </tr>\n",
       "    <tr>\n",
       "      <th>Gumercindo Carrara</th>\n",
       "      <td>5.5</td>\n",
       "      <td>6.0</td>\n",
       "      <td>5.75</td>\n",
       "      <td>1.5</td>\n",
       "      <td>3.625</td>\n",
       "      <td>Reprovado(a)</td>\n",
       "    </tr>\n",
       "    <tr>\n",
       "      <th>Tamefreu Chopin</th>\n",
       "      <td>8.0</td>\n",
       "      <td>2.0</td>\n",
       "      <td>5.00</td>\n",
       "      <td>4.9</td>\n",
       "      <td>4.950</td>\n",
       "      <td>Reprovado(a)</td>\n",
       "    </tr>\n",
       "  </tbody>\n",
       "</table>\n",
       "</div>"
      ],
      "text/plain": [
       "                       P1    P2  Média   PF  Média Final      Situação\n",
       "Acheropita Pacífico   4.3   7.4   5.85  6.0        5.925   Aprovado(a)\n",
       "Afrânia Salgueiro    10.0  10.0  10.00  NaN       10.000   Aprovado(a)\n",
       "Gumercindo Carrara    5.5   6.0   5.75  1.5        3.625  Reprovado(a)\n",
       "Tamefreu Chopin       8.0   2.0   5.00  4.9        4.950  Reprovado(a)"
      ]
     },
     "execution_count": 110,
     "metadata": {},
     "output_type": "execute_result"
    }
   ],
   "source": [
    "df1['PF'] = [6.0,np.nan,1.5,4.9]\n",
    "\n",
    "df1['Média Final'] = [0.5*(df1['Média'].loc[x]+df1['PF'].loc[x]) if pd.notnull(df1['PF'].loc[x]) \\\n",
    "                                                                 else df1['Média'].loc[x] \\\n",
    "                                                                 for x in df1.index]\n",
    "\n",
    "df1['Situação'] = ['Aprovado(a)' if df1['Média Final'].loc[x]>=5 else 'Reprovado(a)' for x in df1.index]\n",
    "\n",
    "df1"
   ]
  },
  {
   "cell_type": "markdown",
   "metadata": {},
   "source": [
    "E se quisermos reordenar a tabela, dessa vez na ordem decrescente das médias finais?"
   ]
  },
  {
   "cell_type": "code",
   "execution_count": 111,
   "metadata": {
    "ExecuteTime": {
     "end_time": "2018-03-21T04:03:55.037545Z",
     "start_time": "2018-03-21T04:03:55.010819Z"
    }
   },
   "outputs": [
    {
     "data": {
      "text/html": [
       "<div>\n",
       "<style scoped>\n",
       "    .dataframe tbody tr th:only-of-type {\n",
       "        vertical-align: middle;\n",
       "    }\n",
       "\n",
       "    .dataframe tbody tr th {\n",
       "        vertical-align: top;\n",
       "    }\n",
       "\n",
       "    .dataframe thead th {\n",
       "        text-align: right;\n",
       "    }\n",
       "</style>\n",
       "<table border=\"1\" class=\"dataframe\">\n",
       "  <thead>\n",
       "    <tr style=\"text-align: right;\">\n",
       "      <th></th>\n",
       "      <th>P1</th>\n",
       "      <th>P2</th>\n",
       "      <th>Média</th>\n",
       "      <th>PF</th>\n",
       "      <th>Média Final</th>\n",
       "      <th>Situação</th>\n",
       "    </tr>\n",
       "  </thead>\n",
       "  <tbody>\n",
       "    <tr>\n",
       "      <th>Afrânia Salgueiro</th>\n",
       "      <td>10.0</td>\n",
       "      <td>10.0</td>\n",
       "      <td>10.00</td>\n",
       "      <td>NaN</td>\n",
       "      <td>10.000</td>\n",
       "      <td>Aprovado(a)</td>\n",
       "    </tr>\n",
       "    <tr>\n",
       "      <th>Acheropita Pacífico</th>\n",
       "      <td>4.3</td>\n",
       "      <td>7.4</td>\n",
       "      <td>5.85</td>\n",
       "      <td>6.0</td>\n",
       "      <td>5.925</td>\n",
       "      <td>Aprovado(a)</td>\n",
       "    </tr>\n",
       "    <tr>\n",
       "      <th>Tamefreu Chopin</th>\n",
       "      <td>8.0</td>\n",
       "      <td>2.0</td>\n",
       "      <td>5.00</td>\n",
       "      <td>4.9</td>\n",
       "      <td>4.950</td>\n",
       "      <td>Reprovado(a)</td>\n",
       "    </tr>\n",
       "    <tr>\n",
       "      <th>Gumercindo Carrara</th>\n",
       "      <td>5.5</td>\n",
       "      <td>6.0</td>\n",
       "      <td>5.75</td>\n",
       "      <td>1.5</td>\n",
       "      <td>3.625</td>\n",
       "      <td>Reprovado(a)</td>\n",
       "    </tr>\n",
       "  </tbody>\n",
       "</table>\n",
       "</div>"
      ],
      "text/plain": [
       "                       P1    P2  Média   PF  Média Final      Situação\n",
       "Afrânia Salgueiro    10.0  10.0  10.00  NaN       10.000   Aprovado(a)\n",
       "Acheropita Pacífico   4.3   7.4   5.85  6.0        5.925   Aprovado(a)\n",
       "Tamefreu Chopin       8.0   2.0   5.00  4.9        4.950  Reprovado(a)\n",
       "Gumercindo Carrara    5.5   6.0   5.75  1.5        3.625  Reprovado(a)"
      ]
     },
     "execution_count": 111,
     "metadata": {},
     "output_type": "execute_result"
    }
   ],
   "source": [
    "df1 = df1.sort_values(by='Média Final',ascending=False)\n",
    "df1"
   ]
  },
  {
   "cell_type": "markdown",
   "metadata": {},
   "source": [
    "Adicionando duas novas linhas contendo a média e o desvio-padrão das notas da turma:"
   ]
  },
  {
   "cell_type": "code",
   "execution_count": 112,
   "metadata": {
    "ExecuteTime": {
     "end_time": "2018-03-21T04:03:55.080792Z",
     "start_time": "2018-03-21T04:03:55.040562Z"
    }
   },
   "outputs": [
    {
     "data": {
      "text/html": [
       "<div>\n",
       "<style scoped>\n",
       "    .dataframe tbody tr th:only-of-type {\n",
       "        vertical-align: middle;\n",
       "    }\n",
       "\n",
       "    .dataframe tbody tr th {\n",
       "        vertical-align: top;\n",
       "    }\n",
       "\n",
       "    .dataframe thead th {\n",
       "        text-align: right;\n",
       "    }\n",
       "</style>\n",
       "<table border=\"1\" class=\"dataframe\">\n",
       "  <thead>\n",
       "    <tr style=\"text-align: right;\">\n",
       "      <th></th>\n",
       "      <th>P1</th>\n",
       "      <th>P2</th>\n",
       "      <th>Média</th>\n",
       "      <th>PF</th>\n",
       "      <th>Média Final</th>\n",
       "      <th>Situação</th>\n",
       "    </tr>\n",
       "  </thead>\n",
       "  <tbody>\n",
       "    <tr>\n",
       "      <th>Afrânia Salgueiro</th>\n",
       "      <td>10.000000</td>\n",
       "      <td>10.000000</td>\n",
       "      <td>10.000000</td>\n",
       "      <td>NaN</td>\n",
       "      <td>10.000000</td>\n",
       "      <td>Aprovado(a)</td>\n",
       "    </tr>\n",
       "    <tr>\n",
       "      <th>Acheropita Pacífico</th>\n",
       "      <td>4.300000</td>\n",
       "      <td>7.400000</td>\n",
       "      <td>5.850000</td>\n",
       "      <td>6.000000</td>\n",
       "      <td>5.925000</td>\n",
       "      <td>Aprovado(a)</td>\n",
       "    </tr>\n",
       "    <tr>\n",
       "      <th>Tamefreu Chopin</th>\n",
       "      <td>8.000000</td>\n",
       "      <td>2.000000</td>\n",
       "      <td>5.000000</td>\n",
       "      <td>4.900000</td>\n",
       "      <td>4.950000</td>\n",
       "      <td>Reprovado(a)</td>\n",
       "    </tr>\n",
       "    <tr>\n",
       "      <th>Gumercindo Carrara</th>\n",
       "      <td>5.500000</td>\n",
       "      <td>6.000000</td>\n",
       "      <td>5.750000</td>\n",
       "      <td>1.500000</td>\n",
       "      <td>3.625000</td>\n",
       "      <td>Reprovado(a)</td>\n",
       "    </tr>\n",
       "    <tr>\n",
       "      <th>Média da turma</th>\n",
       "      <td>6.950000</td>\n",
       "      <td>6.350000</td>\n",
       "      <td>6.650000</td>\n",
       "      <td>4.133333</td>\n",
       "      <td>6.125000</td>\n",
       "      <td>NaN</td>\n",
       "    </tr>\n",
       "    <tr>\n",
       "      <th>Desvio-padrão da turma</th>\n",
       "      <td>2.209638</td>\n",
       "      <td>2.892663</td>\n",
       "      <td>1.961823</td>\n",
       "      <td>1.915434</td>\n",
       "      <td>2.381504</td>\n",
       "      <td>NaN</td>\n",
       "    </tr>\n",
       "  </tbody>\n",
       "</table>\n",
       "</div>"
      ],
      "text/plain": [
       "                               P1         P2      Média        PF  \\\n",
       "Afrânia Salgueiro       10.000000  10.000000  10.000000       NaN   \n",
       "Acheropita Pacífico      4.300000   7.400000   5.850000  6.000000   \n",
       "Tamefreu Chopin          8.000000   2.000000   5.000000  4.900000   \n",
       "Gumercindo Carrara       5.500000   6.000000   5.750000  1.500000   \n",
       "Média da turma           6.950000   6.350000   6.650000  4.133333   \n",
       "Desvio-padrão da turma   2.209638   2.892663   1.961823  1.915434   \n",
       "\n",
       "                        Média Final      Situação  \n",
       "Afrânia Salgueiro         10.000000   Aprovado(a)  \n",
       "Acheropita Pacífico        5.925000   Aprovado(a)  \n",
       "Tamefreu Chopin            4.950000  Reprovado(a)  \n",
       "Gumercindo Carrara         3.625000  Reprovado(a)  \n",
       "Média da turma             6.125000           NaN  \n",
       "Desvio-padrão da turma     2.381504           NaN  "
      ]
     },
     "execution_count": 112,
     "metadata": {},
     "output_type": "execute_result"
    }
   ],
   "source": [
    "df1.loc['Média da turma'] = df1.mean()\n",
    "df1.loc['Desvio-padrão da turma'] = df1.std()\n",
    "df1"
   ]
  },
  {
   "cell_type": "markdown",
   "metadata": {},
   "source": [
    "Limitando a exibição dos números para duas casas decimais:"
   ]
  },
  {
   "cell_type": "code",
   "execution_count": 113,
   "metadata": {
    "ExecuteTime": {
     "end_time": "2018-03-21T04:03:55.115338Z",
     "start_time": "2018-03-21T04:03:55.084274Z"
    },
    "scrolled": false
   },
   "outputs": [
    {
     "data": {
      "text/html": [
       "<div>\n",
       "<style scoped>\n",
       "    .dataframe tbody tr th:only-of-type {\n",
       "        vertical-align: middle;\n",
       "    }\n",
       "\n",
       "    .dataframe tbody tr th {\n",
       "        vertical-align: top;\n",
       "    }\n",
       "\n",
       "    .dataframe thead th {\n",
       "        text-align: right;\n",
       "    }\n",
       "</style>\n",
       "<table border=\"1\" class=\"dataframe\">\n",
       "  <thead>\n",
       "    <tr style=\"text-align: right;\">\n",
       "      <th></th>\n",
       "      <th>P1</th>\n",
       "      <th>P2</th>\n",
       "      <th>Média</th>\n",
       "      <th>PF</th>\n",
       "      <th>Média Final</th>\n",
       "      <th>Situação</th>\n",
       "    </tr>\n",
       "  </thead>\n",
       "  <tbody>\n",
       "    <tr>\n",
       "      <th>Afrânia Salgueiro</th>\n",
       "      <td>10.00</td>\n",
       "      <td>10.00</td>\n",
       "      <td>10.00</td>\n",
       "      <td>NaN</td>\n",
       "      <td>10.00</td>\n",
       "      <td>Aprovado(a)</td>\n",
       "    </tr>\n",
       "    <tr>\n",
       "      <th>Acheropita Pacífico</th>\n",
       "      <td>4.30</td>\n",
       "      <td>7.40</td>\n",
       "      <td>5.85</td>\n",
       "      <td>6.00</td>\n",
       "      <td>5.92</td>\n",
       "      <td>Aprovado(a)</td>\n",
       "    </tr>\n",
       "    <tr>\n",
       "      <th>Tamefreu Chopin</th>\n",
       "      <td>8.00</td>\n",
       "      <td>2.00</td>\n",
       "      <td>5.00</td>\n",
       "      <td>4.90</td>\n",
       "      <td>4.95</td>\n",
       "      <td>Reprovado(a)</td>\n",
       "    </tr>\n",
       "    <tr>\n",
       "      <th>Gumercindo Carrara</th>\n",
       "      <td>5.50</td>\n",
       "      <td>6.00</td>\n",
       "      <td>5.75</td>\n",
       "      <td>1.50</td>\n",
       "      <td>3.62</td>\n",
       "      <td>Reprovado(a)</td>\n",
       "    </tr>\n",
       "    <tr>\n",
       "      <th>Média da turma</th>\n",
       "      <td>6.95</td>\n",
       "      <td>6.35</td>\n",
       "      <td>6.65</td>\n",
       "      <td>4.13</td>\n",
       "      <td>6.12</td>\n",
       "      <td>NaN</td>\n",
       "    </tr>\n",
       "    <tr>\n",
       "      <th>Desvio-padrão da turma</th>\n",
       "      <td>2.21</td>\n",
       "      <td>2.89</td>\n",
       "      <td>1.96</td>\n",
       "      <td>1.92</td>\n",
       "      <td>2.38</td>\n",
       "      <td>NaN</td>\n",
       "    </tr>\n",
       "  </tbody>\n",
       "</table>\n",
       "</div>"
      ],
      "text/plain": [
       "                           P1     P2  Média    PF  Média Final      Situação\n",
       "Afrânia Salgueiro       10.00  10.00  10.00   NaN        10.00   Aprovado(a)\n",
       "Acheropita Pacífico      4.30   7.40   5.85  6.00         5.92   Aprovado(a)\n",
       "Tamefreu Chopin          8.00   2.00   5.00  4.90         4.95  Reprovado(a)\n",
       "Gumercindo Carrara       5.50   6.00   5.75  1.50         3.62  Reprovado(a)\n",
       "Média da turma           6.95   6.35   6.65  4.13         6.12           NaN\n",
       "Desvio-padrão da turma   2.21   2.89   1.96  1.92         2.38           NaN"
      ]
     },
     "execution_count": 113,
     "metadata": {},
     "output_type": "execute_result"
    }
   ],
   "source": [
    "df1.round(2)"
   ]
  },
  {
   "cell_type": "markdown",
   "metadata": {},
   "source": [
    "#### *Mão na massa! *\n",
    "\n",
    "* Adicione mais uma aluna à tabela anterior."
   ]
  },
  {
   "cell_type": "code",
   "execution_count": null,
   "metadata": {},
   "outputs": [],
   "source": []
  },
  {
   "cell_type": "markdown",
   "metadata": {},
   "source": [
    "## Bibliografia\n",
    "\n",
    "[MCKINNEY, W. - Python for Data Analysis - Data Wrangling with Pandas, NumPy and IPython - 2a Edição - O'Reilly, 2018](https://www.amazon.com.br/Python-Data-Analysis-Wes-Mckinney/dp/1491957662/ref=dp_ob_title_bk)\n",
    "\n",
    "[VANDERPLAS, J. - Python Data Science Handbook - Essential Tools for Working with Data - O'Reilly, 2017](https://jakevdp.github.io/PythonDataScienceHandbook/)\n",
    "\n",
    "[LANGTANGEN, H. P. - A Primer on Scientific Programming with Python - 4a Edição - 2014](https://hplgit.github.io/primer.html/doc/pub/half/book.pdf)\n",
    "\n",
    "[STEWART, J.M. - Python for Scientists - Cambridge University Press, 2014](https://www.amazon.com/Python-Scientists-John-M-Stewart/dp/1316641236/ref=sr_1_1?ie=UTF8&qid=1504027025&sr=8-1&keywords=python+for+scientists)\n",
    "\n",
    "[pandas 0.15.2 documentation - 10 minutes to pandas](http://pandas.pydata.org/pandas-docs/version/0.15/10min.html)\n",
    "\n",
    "[Python Objects - Fredrik Lundh (2000)](http://effbot.org/zone/python-objects.htm)\n",
    "\n"
   ]
  }
 ],
 "metadata": {
  "kernelspec": {
   "display_name": "Python 3",
   "language": "python",
   "name": "python3"
  },
  "language_info": {
   "codemirror_mode": {
    "name": "ipython",
    "version": 3
   },
   "file_extension": ".py",
   "mimetype": "text/x-python",
   "name": "python",
   "nbconvert_exporter": "python",
   "pygments_lexer": "ipython3",
   "version": "3.6.8"
  }
 },
 "nbformat": 4,
 "nbformat_minor": 2
}
